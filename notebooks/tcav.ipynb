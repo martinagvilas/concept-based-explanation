{
 "cells": [
  {
   "cell_type": "markdown",
   "id": "593b6e6d",
   "metadata": {},
   "source": [
    "# Testing with Concept Activation Vectors (TCAV)"
   ]
  },
  {
   "cell_type": "markdown",
   "id": "ea681bac",
   "metadata": {},
   "source": [
    "Introduced by [Kim et al. (2018)](https://arxiv.org/pdf/1711.11279.pdf)"
   ]
  },
  {
   "cell_type": "code",
   "execution_count": 2,
   "id": "e2c0f883",
   "metadata": {},
   "outputs": [],
   "source": [
    "from torchvision.models import resnet50\n",
    "\n",
    "model = resnet50(pretrained=True)"
   ]
  },
  {
   "cell_type": "markdown",
   "id": "9a217fc2",
   "metadata": {},
   "source": [
    "We will use the [pycocotools](https://github.com/cocodataset/cocoapi/blob/master/PythonAPI/pycocoDemo.ipynb) API to retrieve some examples of chairs:"
   ]
  },
  {
   "cell_type": "code",
   "execution_count": 6,
   "id": "71ee55e9",
   "metadata": {},
   "outputs": [
    {
     "name": "stdout",
     "output_type": "stream",
     "text": [
      "loading annotations into memory...\n",
      "Done (t=0.59s)\n",
      "creating index...\n",
      "index created!\n"
     ]
    }
   ],
   "source": [
    "from pycocotools.coco import COCO\n",
    "\n",
    "coco = COCO(\"./datasets/instances_val2017.json\")"
   ]
  },
  {
   "cell_type": "markdown",
   "id": "64b94a1c",
   "metadata": {},
   "source": [
    "Let's get the IDs of the images in the coco dataset that have the concept of _chair_:"
   ]
  },
  {
   "cell_type": "code",
   "execution_count": 12,
   "id": "8fb80b09",
   "metadata": {},
   "outputs": [],
   "source": [
    "chair_cat_id = coco.getCatIds(catNms=['chair']);\n",
    "chair_img_ids = coco.getImgIds(catIds=chair_cat_id)"
   ]
  },
  {
   "cell_type": "code",
   "execution_count": null,
   "id": "05185f77",
   "metadata": {},
   "outputs": [],
   "source": []
  },
  {
   "cell_type": "code",
   "execution_count": 59,
   "id": "8606cb4a",
   "metadata": {},
   "outputs": [],
   "source": [
    "table_cat_id = coco.getCatIds(catNms=['dining table'])[0]\n",
    "\n",
    "overlap = []\n",
    "for idx in chair_img_ids:\n",
    "    anns_id = coco.getAnnIds(imgIds=idx)\n",
    "    anns = coco.loadAnns(anns_id)\n",
    "    cat_ids_img = [ann_dict['category_id'] for ann_dict in anns]\n",
    "    if table_cat_id in cat_ids_img:\n",
    "        overlap.append(idx)\n"
   ]
  },
  {
   "cell_type": "markdown",
   "id": "86ca8ebb",
   "metadata": {},
   "source": [
    "Let's filter the ids of chair images so that they don't have tables in them:"
   ]
  },
  {
   "cell_type": "code",
   "execution_count": 65,
   "id": "75ad6e6b",
   "metadata": {},
   "outputs": [],
   "source": [
    "filt_chair_img_ids = [img_id for img_id in chair_img_ids if img_id not in overlap]\n",
    "assert len(filt_chair_img_ids) == (len(chair_img_ids) - len(overlap))"
   ]
  },
  {
   "cell_type": "code",
   "execution_count": null,
   "id": "d923592c",
   "metadata": {},
   "outputs": [],
   "source": []
  },
  {
   "cell_type": "markdown",
   "id": "e6d64146",
   "metadata": {},
   "source": [
    "dining table, chair"
   ]
  }
 ],
 "metadata": {
  "kernelspec": {
   "display_name": "Python 3 (ipykernel)",
   "language": "python",
   "name": "python3"
  },
  "language_info": {
   "codemirror_mode": {
    "name": "ipython",
    "version": 3
   },
   "file_extension": ".py",
   "mimetype": "text/x-python",
   "name": "python",
   "nbconvert_exporter": "python",
   "pygments_lexer": "ipython3",
   "version": "3.8.12"
  }
 },
 "nbformat": 4,
 "nbformat_minor": 5
}
