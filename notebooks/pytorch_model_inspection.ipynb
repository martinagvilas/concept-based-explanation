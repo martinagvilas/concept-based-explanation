{
 "cells": [
  {
   "cell_type": "markdown",
   "id": "2a311c6c",
   "metadata": {},
   "source": [
    "# Model inspection in pytorch\n",
    "\n",
    "> This notebooks introduces some functions to explore the internals of DNN models implemented in [pytorch](https://pytorch.org/)."
   ]
  },
  {
   "cell_type": "markdown",
   "id": "db422296",
   "metadata": {},
   "source": [
    "## 📓 Table of Contents\n",
    "\n",
    "- [Load model](#Load)\n",
    "- [Inspect modules](#Inspect-the-modules-of-the-model)\n",
    "    - [modules()](#.modules())\n",
    "    - [named_modules()](#.named_modules())\n",
    "    - [{module-name}](#.{module-name})\n",
    "    - [children()](#.children())\n",
    "- [Inspect parameters](#Inspect-the-parameters-of-the-model)\n",
    "    - [parameters()](#.parameters())\n",
    "    - [named_parameters()](#named_parameters())\n",
    "    - [{parameter_name}](#{parameter_name})\n",
    "    - [state_dict()](#.state-dict())\n",
    "- [Feature extraction](#Feature-extraction)\n",
    "    - [hooks](#Hooks)"
   ]
  },
  {
   "cell_type": "markdown",
   "id": "4d4193ee",
   "metadata": {},
   "source": [
    "## Load"
   ]
  },
  {
   "cell_type": "code",
   "execution_count": 1,
   "id": "a5c9e094",
   "metadata": {},
   "outputs": [
    {
     "data": {
      "application/javascript": [
       "IPython.OutputArea.auto_scroll_threshold = 11\n"
      ],
      "text/plain": [
       "<IPython.core.display.Javascript object>"
      ]
     },
     "metadata": {},
     "output_type": "display_data"
    }
   ],
   "source": [
    "%%javascript\n",
    "IPython.OutputArea.auto_scroll_threshold = 11"
   ]
  },
  {
   "cell_type": "code",
   "execution_count": 2,
   "id": "fcdb59ab",
   "metadata": {},
   "outputs": [],
   "source": [
    "# import ipywidgets as widgets\n",
    "# import matplotlib.pyplot as plt\n",
    "# import numpy as np\n",
    "# import random\n",
    "# import seaborn as sns\n",
    "# import skimage.io as io\n",
    "# import torch\n"
   ]
  },
  {
   "cell_type": "markdown",
   "id": "9cb79267",
   "metadata": {},
   "source": [
    "We will first load an example DNN to inspect. Let's import the pretrained [resnet50](https://pytorch.org/vision/stable/models.html#torchvision.models.resnet50) available in pytorch:"
   ]
  },
  {
   "cell_type": "code",
   "execution_count": 3,
   "id": "094a8b79",
   "metadata": {},
   "outputs": [],
   "source": [
    "from torchvision.models import resnet50\n",
    "\n",
    "resnet_model = resnet50(pretrained=True)"
   ]
  },
  {
   "cell_type": "markdown",
   "id": "989b8d2a",
   "metadata": {},
   "source": [
    "Let's set the model to be in evaluation mode [explain this better]:"
   ]
  },
  {
   "cell_type": "code",
   "execution_count": 4,
   "id": "fc8fb147",
   "metadata": {},
   "outputs": [],
   "source": [
    "resnet_model.eval();"
   ]
  },
  {
   "cell_type": "markdown",
   "id": "cf714b96",
   "metadata": {},
   "source": [
    "## Inspect the modules of the model"
   ]
  },
  {
   "cell_type": "markdown",
   "id": "61005a3a",
   "metadata": {},
   "source": [
    "### `.modules()`\n",
    "\n",
    "The function [`.modules()`](https://pytorch.org/docs/stable/generated/torch.nn.Module.html?highlight=modules#torch.nn.Module.modules) is a [generator](https://realpython.com/introduction-to-python-generators/) function that returns an iterator containing the modules of a DNN."
   ]
  },
  {
   "cell_type": "code",
   "execution_count": 5,
   "id": "1e6ad646",
   "metadata": {},
   "outputs": [
    {
     "data": {
      "text/plain": [
       "<generator object Module.modules at 0x1095bd6d8>"
      ]
     },
     "execution_count": 5,
     "metadata": {},
     "output_type": "execute_result"
    }
   ],
   "source": [
    "resnet_model.modules()"
   ]
  },
  {
   "cell_type": "markdown",
   "id": "07a0fed0",
   "metadata": {},
   "source": [
    "The output sequence follows a tree-like structure. The first element of the sequence will contain the entire model:"
   ]
  },
  {
   "cell_type": "code",
   "execution_count": 6,
   "id": "da6e5594",
   "metadata": {
    "scrolled": true,
    "tags": []
   },
   "outputs": [
    {
     "name": "stdout",
     "output_type": "stream",
     "text": [
      "ResNet(\n",
      "  (conv1): Conv2d(3, 64, kernel_size=(7, 7), stride=(2, 2), padding=(3, 3), bias=False)\n",
      "  (bn1): BatchNorm2d(64, eps=1e-05, momentum=0.1, affine=True, track_running_stats=True)\n",
      "  (relu): ReLU(inplace=True)\n",
      "  (maxpool): MaxPool2d(kernel_size=3, stride=2, padding=1, dilation=1, ceil_mode=False)\n",
      "  (layer1): Sequential(\n",
      "    (0): Bottleneck(\n",
      "      (conv1): Conv2d(64, 64, kernel_size=(1, 1), stride=(1, 1), bias=False)\n",
      "      (bn1): BatchNorm2d(64, eps=1e-05, momentum=0.1, affine=True, track_running_stats=True)\n",
      "      (conv2): Conv2d(64, 64, kernel_size=(3, 3), stride=(1, 1), padding=(1, 1), bias=False)\n",
      "      (bn2): BatchNorm2d(64, eps=1e-05, momentum=0.1, affine=True, track_running_stats=True)\n",
      "      (conv3): Conv2d(64, 256, kernel_size=(1, 1), stride=(1, 1), bias=False)\n",
      "      (bn3): BatchNorm2d(256, eps=1e-05, momentum=0.1, affine=True, track_running_stats=True)\n",
      "      (relu): ReLU(inplace=True)\n",
      "      (downsample): Sequential(\n",
      "        (0): Conv2d(64, 256, kernel_size=(1, 1), stride=(1, 1), bias=False)\n",
      "        (1): BatchNorm2d(256, eps=1e-05, momentum=0.1, affine=True, track_running_stats=True)\n",
      "      )\n",
      "    )\n",
      "    (1): Bottleneck(\n",
      "      (conv1): Conv2d(256, 64, kernel_size=(1, 1), stride=(1, 1), bias=False)\n",
      "      (bn1): BatchNorm2d(64, eps=1e-05, momentum=0.1, affine=True, track_running_stats=True)\n",
      "      (conv2): Conv2d(64, 64, kernel_size=(3, 3), stride=(1, 1), padding=(1, 1), bias=False)\n",
      "      (bn2): BatchNorm2d(64, eps=1e-05, momentum=0.1, affine=True, track_running_stats=True)\n",
      "      (conv3): Conv2d(64, 256, kernel_size=(1, 1), stride=(1, 1), bias=False)\n",
      "      (bn3): BatchNorm2d(256, eps=1e-05, momentum=0.1, affine=True, track_running_stats=True)\n",
      "      (relu): ReLU(inplace=True)\n",
      "    )\n",
      "    (2): Bottleneck(\n",
      "      (conv1): Conv2d(256, 64, kernel_size=(1, 1), stride=(1, 1), bias=False)\n",
      "      (bn1): BatchNorm2d(64, eps=1e-05, momentum=0.1, affine=True, track_running_stats=True)\n",
      "      (conv2): Conv2d(64, 64, kernel_size=(3, 3), stride=(1, 1), padding=(1, 1), bias=False)\n",
      "      (bn2): BatchNorm2d(64, eps=1e-05, momentum=0.1, affine=True, track_running_stats=True)\n",
      "      (conv3): Conv2d(64, 256, kernel_size=(1, 1), stride=(1, 1), bias=False)\n",
      "      (bn3): BatchNorm2d(256, eps=1e-05, momentum=0.1, affine=True, track_running_stats=True)\n",
      "      (relu): ReLU(inplace=True)\n",
      "    )\n",
      "  )\n",
      "  (layer2): Sequential(\n",
      "    (0): Bottleneck(\n",
      "      (conv1): Conv2d(256, 128, kernel_size=(1, 1), stride=(1, 1), bias=False)\n",
      "      (bn1): BatchNorm2d(128, eps=1e-05, momentum=0.1, affine=True, track_running_stats=True)\n",
      "      (conv2): Conv2d(128, 128, kernel_size=(3, 3), stride=(2, 2), padding=(1, 1), bias=False)\n",
      "      (bn2): BatchNorm2d(128, eps=1e-05, momentum=0.1, affine=True, track_running_stats=True)\n",
      "      (conv3): Conv2d(128, 512, kernel_size=(1, 1), stride=(1, 1), bias=False)\n",
      "      (bn3): BatchNorm2d(512, eps=1e-05, momentum=0.1, affine=True, track_running_stats=True)\n",
      "      (relu): ReLU(inplace=True)\n",
      "      (downsample): Sequential(\n",
      "        (0): Conv2d(256, 512, kernel_size=(1, 1), stride=(2, 2), bias=False)\n",
      "        (1): BatchNorm2d(512, eps=1e-05, momentum=0.1, affine=True, track_running_stats=True)\n",
      "      )\n",
      "    )\n",
      "    (1): Bottleneck(\n",
      "      (conv1): Conv2d(512, 128, kernel_size=(1, 1), stride=(1, 1), bias=False)\n",
      "      (bn1): BatchNorm2d(128, eps=1e-05, momentum=0.1, affine=True, track_running_stats=True)\n",
      "      (conv2): Conv2d(128, 128, kernel_size=(3, 3), stride=(1, 1), padding=(1, 1), bias=False)\n",
      "      (bn2): BatchNorm2d(128, eps=1e-05, momentum=0.1, affine=True, track_running_stats=True)\n",
      "      (conv3): Conv2d(128, 512, kernel_size=(1, 1), stride=(1, 1), bias=False)\n",
      "      (bn3): BatchNorm2d(512, eps=1e-05, momentum=0.1, affine=True, track_running_stats=True)\n",
      "      (relu): ReLU(inplace=True)\n",
      "    )\n",
      "    (2): Bottleneck(\n",
      "      (conv1): Conv2d(512, 128, kernel_size=(1, 1), stride=(1, 1), bias=False)\n",
      "      (bn1): BatchNorm2d(128, eps=1e-05, momentum=0.1, affine=True, track_running_stats=True)\n",
      "      (conv2): Conv2d(128, 128, kernel_size=(3, 3), stride=(1, 1), padding=(1, 1), bias=False)\n",
      "      (bn2): BatchNorm2d(128, eps=1e-05, momentum=0.1, affine=True, track_running_stats=True)\n",
      "      (conv3): Conv2d(128, 512, kernel_size=(1, 1), stride=(1, 1), bias=False)\n",
      "      (bn3): BatchNorm2d(512, eps=1e-05, momentum=0.1, affine=True, track_running_stats=True)\n",
      "      (relu): ReLU(inplace=True)\n",
      "    )\n",
      "    (3): Bottleneck(\n",
      "      (conv1): Conv2d(512, 128, kernel_size=(1, 1), stride=(1, 1), bias=False)\n",
      "      (bn1): BatchNorm2d(128, eps=1e-05, momentum=0.1, affine=True, track_running_stats=True)\n",
      "      (conv2): Conv2d(128, 128, kernel_size=(3, 3), stride=(1, 1), padding=(1, 1), bias=False)\n",
      "      (bn2): BatchNorm2d(128, eps=1e-05, momentum=0.1, affine=True, track_running_stats=True)\n",
      "      (conv3): Conv2d(128, 512, kernel_size=(1, 1), stride=(1, 1), bias=False)\n",
      "      (bn3): BatchNorm2d(512, eps=1e-05, momentum=0.1, affine=True, track_running_stats=True)\n",
      "      (relu): ReLU(inplace=True)\n",
      "    )\n",
      "  )\n",
      "  (layer3): Sequential(\n",
      "    (0): Bottleneck(\n",
      "      (conv1): Conv2d(512, 256, kernel_size=(1, 1), stride=(1, 1), bias=False)\n",
      "      (bn1): BatchNorm2d(256, eps=1e-05, momentum=0.1, affine=True, track_running_stats=True)\n",
      "      (conv2): Conv2d(256, 256, kernel_size=(3, 3), stride=(2, 2), padding=(1, 1), bias=False)\n",
      "      (bn2): BatchNorm2d(256, eps=1e-05, momentum=0.1, affine=True, track_running_stats=True)\n",
      "      (conv3): Conv2d(256, 1024, kernel_size=(1, 1), stride=(1, 1), bias=False)\n",
      "      (bn3): BatchNorm2d(1024, eps=1e-05, momentum=0.1, affine=True, track_running_stats=True)\n",
      "      (relu): ReLU(inplace=True)\n",
      "      (downsample): Sequential(\n",
      "        (0): Conv2d(512, 1024, kernel_size=(1, 1), stride=(2, 2), bias=False)\n",
      "        (1): BatchNorm2d(1024, eps=1e-05, momentum=0.1, affine=True, track_running_stats=True)\n",
      "      )\n",
      "    )\n",
      "    (1): Bottleneck(\n",
      "      (conv1): Conv2d(1024, 256, kernel_size=(1, 1), stride=(1, 1), bias=False)\n",
      "      (bn1): BatchNorm2d(256, eps=1e-05, momentum=0.1, affine=True, track_running_stats=True)\n",
      "      (conv2): Conv2d(256, 256, kernel_size=(3, 3), stride=(1, 1), padding=(1, 1), bias=False)\n",
      "      (bn2): BatchNorm2d(256, eps=1e-05, momentum=0.1, affine=True, track_running_stats=True)\n",
      "      (conv3): Conv2d(256, 1024, kernel_size=(1, 1), stride=(1, 1), bias=False)\n",
      "      (bn3): BatchNorm2d(1024, eps=1e-05, momentum=0.1, affine=True, track_running_stats=True)\n",
      "      (relu): ReLU(inplace=True)\n",
      "    )\n",
      "    (2): Bottleneck(\n",
      "      (conv1): Conv2d(1024, 256, kernel_size=(1, 1), stride=(1, 1), bias=False)\n",
      "      (bn1): BatchNorm2d(256, eps=1e-05, momentum=0.1, affine=True, track_running_stats=True)\n",
      "      (conv2): Conv2d(256, 256, kernel_size=(3, 3), stride=(1, 1), padding=(1, 1), bias=False)\n",
      "      (bn2): BatchNorm2d(256, eps=1e-05, momentum=0.1, affine=True, track_running_stats=True)\n",
      "      (conv3): Conv2d(256, 1024, kernel_size=(1, 1), stride=(1, 1), bias=False)\n",
      "      (bn3): BatchNorm2d(1024, eps=1e-05, momentum=0.1, affine=True, track_running_stats=True)\n",
      "      (relu): ReLU(inplace=True)\n",
      "    )\n",
      "    (3): Bottleneck(\n",
      "      (conv1): Conv2d(1024, 256, kernel_size=(1, 1), stride=(1, 1), bias=False)\n",
      "      (bn1): BatchNorm2d(256, eps=1e-05, momentum=0.1, affine=True, track_running_stats=True)\n",
      "      (conv2): Conv2d(256, 256, kernel_size=(3, 3), stride=(1, 1), padding=(1, 1), bias=False)\n",
      "      (bn2): BatchNorm2d(256, eps=1e-05, momentum=0.1, affine=True, track_running_stats=True)\n",
      "      (conv3): Conv2d(256, 1024, kernel_size=(1, 1), stride=(1, 1), bias=False)\n",
      "      (bn3): BatchNorm2d(1024, eps=1e-05, momentum=0.1, affine=True, track_running_stats=True)\n",
      "      (relu): ReLU(inplace=True)\n",
      "    )\n",
      "    (4): Bottleneck(\n",
      "      (conv1): Conv2d(1024, 256, kernel_size=(1, 1), stride=(1, 1), bias=False)\n",
      "      (bn1): BatchNorm2d(256, eps=1e-05, momentum=0.1, affine=True, track_running_stats=True)\n",
      "      (conv2): Conv2d(256, 256, kernel_size=(3, 3), stride=(1, 1), padding=(1, 1), bias=False)\n",
      "      (bn2): BatchNorm2d(256, eps=1e-05, momentum=0.1, affine=True, track_running_stats=True)\n",
      "      (conv3): Conv2d(256, 1024, kernel_size=(1, 1), stride=(1, 1), bias=False)\n",
      "      (bn3): BatchNorm2d(1024, eps=1e-05, momentum=0.1, affine=True, track_running_stats=True)\n",
      "      (relu): ReLU(inplace=True)\n",
      "    )\n",
      "    (5): Bottleneck(\n",
      "      (conv1): Conv2d(1024, 256, kernel_size=(1, 1), stride=(1, 1), bias=False)\n",
      "      (bn1): BatchNorm2d(256, eps=1e-05, momentum=0.1, affine=True, track_running_stats=True)\n",
      "      (conv2): Conv2d(256, 256, kernel_size=(3, 3), stride=(1, 1), padding=(1, 1), bias=False)\n",
      "      (bn2): BatchNorm2d(256, eps=1e-05, momentum=0.1, affine=True, track_running_stats=True)\n",
      "      (conv3): Conv2d(256, 1024, kernel_size=(1, 1), stride=(1, 1), bias=False)\n",
      "      (bn3): BatchNorm2d(1024, eps=1e-05, momentum=0.1, affine=True, track_running_stats=True)\n",
      "      (relu): ReLU(inplace=True)\n",
      "    )\n",
      "  )\n",
      "  (layer4): Sequential(\n",
      "    (0): Bottleneck(\n",
      "      (conv1): Conv2d(1024, 512, kernel_size=(1, 1), stride=(1, 1), bias=False)\n",
      "      (bn1): BatchNorm2d(512, eps=1e-05, momentum=0.1, affine=True, track_running_stats=True)\n",
      "      (conv2): Conv2d(512, 512, kernel_size=(3, 3), stride=(2, 2), padding=(1, 1), bias=False)\n",
      "      (bn2): BatchNorm2d(512, eps=1e-05, momentum=0.1, affine=True, track_running_stats=True)\n",
      "      (conv3): Conv2d(512, 2048, kernel_size=(1, 1), stride=(1, 1), bias=False)\n",
      "      (bn3): BatchNorm2d(2048, eps=1e-05, momentum=0.1, affine=True, track_running_stats=True)\n",
      "      (relu): ReLU(inplace=True)\n",
      "      (downsample): Sequential(\n",
      "        (0): Conv2d(1024, 2048, kernel_size=(1, 1), stride=(2, 2), bias=False)\n",
      "        (1): BatchNorm2d(2048, eps=1e-05, momentum=0.1, affine=True, track_running_stats=True)\n",
      "      )\n",
      "    )\n",
      "    (1): Bottleneck(\n",
      "      (conv1): Conv2d(2048, 512, kernel_size=(1, 1), stride=(1, 1), bias=False)\n",
      "      (bn1): BatchNorm2d(512, eps=1e-05, momentum=0.1, affine=True, track_running_stats=True)\n",
      "      (conv2): Conv2d(512, 512, kernel_size=(3, 3), stride=(1, 1), padding=(1, 1), bias=False)\n",
      "      (bn2): BatchNorm2d(512, eps=1e-05, momentum=0.1, affine=True, track_running_stats=True)\n",
      "      (conv3): Conv2d(512, 2048, kernel_size=(1, 1), stride=(1, 1), bias=False)\n",
      "      (bn3): BatchNorm2d(2048, eps=1e-05, momentum=0.1, affine=True, track_running_stats=True)\n",
      "      (relu): ReLU(inplace=True)\n",
      "    )\n",
      "    (2): Bottleneck(\n",
      "      (conv1): Conv2d(2048, 512, kernel_size=(1, 1), stride=(1, 1), bias=False)\n",
      "      (bn1): BatchNorm2d(512, eps=1e-05, momentum=0.1, affine=True, track_running_stats=True)\n",
      "      (conv2): Conv2d(512, 512, kernel_size=(3, 3), stride=(1, 1), padding=(1, 1), bias=False)\n",
      "      (bn2): BatchNorm2d(512, eps=1e-05, momentum=0.1, affine=True, track_running_stats=True)\n",
      "      (conv3): Conv2d(512, 2048, kernel_size=(1, 1), stride=(1, 1), bias=False)\n",
      "      (bn3): BatchNorm2d(2048, eps=1e-05, momentum=0.1, affine=True, track_running_stats=True)\n",
      "      (relu): ReLU(inplace=True)\n",
      "    )\n",
      "  )\n",
      "  (avgpool): AdaptiveAvgPool2d(output_size=(1, 1))\n",
      "  (fc): Linear(in_features=2048, out_features=1000, bias=True)\n",
      ")\n"
     ]
    }
   ],
   "source": [
    "resnet_modules = list(resnet_model.modules())\n",
    "print(resnet_modules[0])"
   ]
  },
  {
   "cell_type": "markdown",
   "id": "fdb3b4aa",
   "metadata": {},
   "source": [
    "The second element will only contain the first module of the model:"
   ]
  },
  {
   "cell_type": "code",
   "execution_count": 7,
   "id": "7a378cc0",
   "metadata": {},
   "outputs": [
    {
     "name": "stdout",
     "output_type": "stream",
     "text": [
      "Conv2d(3, 64, kernel_size=(7, 7), stride=(2, 2), padding=(3, 3), bias=False)\n"
     ]
    }
   ],
   "source": [
    "print(resnet_modules[1])"
   ]
  },
  {
   "cell_type": "markdown",
   "id": "d825d153",
   "metadata": {},
   "source": [
    "If the module contains other submodules, all of them will be stored first:"
   ]
  },
  {
   "cell_type": "code",
   "execution_count": 8,
   "id": "c7f04f12",
   "metadata": {
    "scrolled": true,
    "tags": []
   },
   "outputs": [
    {
     "name": "stdout",
     "output_type": "stream",
     "text": [
      "Sequential(\n",
      "  (0): Bottleneck(\n",
      "    (conv1): Conv2d(64, 64, kernel_size=(1, 1), stride=(1, 1), bias=False)\n",
      "    (bn1): BatchNorm2d(64, eps=1e-05, momentum=0.1, affine=True, track_running_stats=True)\n",
      "    (conv2): Conv2d(64, 64, kernel_size=(3, 3), stride=(1, 1), padding=(1, 1), bias=False)\n",
      "    (bn2): BatchNorm2d(64, eps=1e-05, momentum=0.1, affine=True, track_running_stats=True)\n",
      "    (conv3): Conv2d(64, 256, kernel_size=(1, 1), stride=(1, 1), bias=False)\n",
      "    (bn3): BatchNorm2d(256, eps=1e-05, momentum=0.1, affine=True, track_running_stats=True)\n",
      "    (relu): ReLU(inplace=True)\n",
      "    (downsample): Sequential(\n",
      "      (0): Conv2d(64, 256, kernel_size=(1, 1), stride=(1, 1), bias=False)\n",
      "      (1): BatchNorm2d(256, eps=1e-05, momentum=0.1, affine=True, track_running_stats=True)\n",
      "    )\n",
      "  )\n",
      "  (1): Bottleneck(\n",
      "    (conv1): Conv2d(256, 64, kernel_size=(1, 1), stride=(1, 1), bias=False)\n",
      "    (bn1): BatchNorm2d(64, eps=1e-05, momentum=0.1, affine=True, track_running_stats=True)\n",
      "    (conv2): Conv2d(64, 64, kernel_size=(3, 3), stride=(1, 1), padding=(1, 1), bias=False)\n",
      "    (bn2): BatchNorm2d(64, eps=1e-05, momentum=0.1, affine=True, track_running_stats=True)\n",
      "    (conv3): Conv2d(64, 256, kernel_size=(1, 1), stride=(1, 1), bias=False)\n",
      "    (bn3): BatchNorm2d(256, eps=1e-05, momentum=0.1, affine=True, track_running_stats=True)\n",
      "    (relu): ReLU(inplace=True)\n",
      "  )\n",
      "  (2): Bottleneck(\n",
      "    (conv1): Conv2d(256, 64, kernel_size=(1, 1), stride=(1, 1), bias=False)\n",
      "    (bn1): BatchNorm2d(64, eps=1e-05, momentum=0.1, affine=True, track_running_stats=True)\n",
      "    (conv2): Conv2d(64, 64, kernel_size=(3, 3), stride=(1, 1), padding=(1, 1), bias=False)\n",
      "    (bn2): BatchNorm2d(64, eps=1e-05, momentum=0.1, affine=True, track_running_stats=True)\n",
      "    (conv3): Conv2d(64, 256, kernel_size=(1, 1), stride=(1, 1), bias=False)\n",
      "    (bn3): BatchNorm2d(256, eps=1e-05, momentum=0.1, affine=True, track_running_stats=True)\n",
      "    (relu): ReLU(inplace=True)\n",
      "  )\n",
      ")\n"
     ]
    }
   ],
   "source": [
    "print(resnet_modules[5])"
   ]
  },
  {
   "cell_type": "markdown",
   "id": "78b90f51",
   "metadata": {},
   "source": [
    "And then recursively accessed:"
   ]
  },
  {
   "cell_type": "code",
   "execution_count": 9,
   "id": "55a946d6",
   "metadata": {
    "scrolled": true,
    "tags": []
   },
   "outputs": [
    {
     "name": "stdout",
     "output_type": "stream",
     "text": [
      "Bottleneck(\n",
      "  (conv1): Conv2d(64, 64, kernel_size=(1, 1), stride=(1, 1), bias=False)\n",
      "  (bn1): BatchNorm2d(64, eps=1e-05, momentum=0.1, affine=True, track_running_stats=True)\n",
      "  (conv2): Conv2d(64, 64, kernel_size=(3, 3), stride=(1, 1), padding=(1, 1), bias=False)\n",
      "  (bn2): BatchNorm2d(64, eps=1e-05, momentum=0.1, affine=True, track_running_stats=True)\n",
      "  (conv3): Conv2d(64, 256, kernel_size=(1, 1), stride=(1, 1), bias=False)\n",
      "  (bn3): BatchNorm2d(256, eps=1e-05, momentum=0.1, affine=True, track_running_stats=True)\n",
      "  (relu): ReLU(inplace=True)\n",
      "  (downsample): Sequential(\n",
      "    (0): Conv2d(64, 256, kernel_size=(1, 1), stride=(1, 1), bias=False)\n",
      "    (1): BatchNorm2d(256, eps=1e-05, momentum=0.1, affine=True, track_running_stats=True)\n",
      "  )\n",
      ")\n"
     ]
    }
   ],
   "source": [
    "print(resnet_modules[6])"
   ]
  },
  {
   "cell_type": "code",
   "execution_count": 10,
   "id": "129bd452",
   "metadata": {},
   "outputs": [
    {
     "name": "stdout",
     "output_type": "stream",
     "text": [
      "Conv2d(64, 64, kernel_size=(1, 1), stride=(1, 1), bias=False)\n"
     ]
    }
   ],
   "source": [
    "print(resnet_modules[7])"
   ]
  },
  {
   "cell_type": "code",
   "execution_count": 11,
   "id": "eb832c0a",
   "metadata": {},
   "outputs": [
    {
     "name": "stdout",
     "output_type": "stream",
     "text": [
      "BatchNorm2d(64, eps=1e-05, momentum=0.1, affine=True, track_running_stats=True)\n"
     ]
    }
   ],
   "source": [
    "print(resnet_modules[8])"
   ]
  },
  {
   "cell_type": "markdown",
   "id": "db0d7cd0",
   "metadata": {},
   "source": [
    "### `.named_modules()`\n",
    "\n",
    "We can also use the function `named_modules()` to get the module names along with the module itself:"
   ]
  },
  {
   "cell_type": "code",
   "execution_count": 12,
   "id": "156c9159",
   "metadata": {},
   "outputs": [
    {
     "name": "stdout",
     "output_type": "stream",
     "text": [
      "('conv1', Conv2d(3, 64, kernel_size=(7, 7), stride=(2, 2), padding=(3, 3), bias=False))\n"
     ]
    }
   ],
   "source": [
    "resnet_named_modules = list(resnet_model.named_modules())\n",
    "print(resnet_named_modules[1])"
   ]
  },
  {
   "cell_type": "markdown",
   "id": "71ceb8d9",
   "metadata": {},
   "source": [
    "Each element of the output contains a tuple, where the first element is the name and the second the module:"
   ]
  },
  {
   "cell_type": "code",
   "execution_count": 13,
   "id": "05614d5b",
   "metadata": {},
   "outputs": [
    {
     "name": "stdout",
     "output_type": "stream",
     "text": [
      "conv1\n"
     ]
    }
   ],
   "source": [
    "print(resnet_named_modules[1][0])"
   ]
  },
  {
   "cell_type": "code",
   "execution_count": 14,
   "id": "df4b65bb",
   "metadata": {},
   "outputs": [
    {
     "name": "stdout",
     "output_type": "stream",
     "text": [
      "layer1.0.downsample\n"
     ]
    }
   ],
   "source": [
    "print(resnet_named_modules[14][0])"
   ]
  },
  {
   "cell_type": "markdown",
   "id": "5ce5cde2",
   "metadata": {},
   "source": [
    "### `.{module-name}`"
   ]
  },
  {
   "cell_type": "markdown",
   "id": "daf5b00f",
   "metadata": {},
   "source": [
    "Now that we know the name assigned to every module, we can also access the modules by calling their names:"
   ]
  },
  {
   "cell_type": "code",
   "execution_count": 15,
   "id": "06a74f94",
   "metadata": {},
   "outputs": [
    {
     "data": {
      "text/plain": [
       "Conv2d(3, 64, kernel_size=(7, 7), stride=(2, 2), padding=(3, 3), bias=False)"
      ]
     },
     "execution_count": 15,
     "metadata": {},
     "output_type": "execute_result"
    }
   ],
   "source": [
    "resnet_model.conv1"
   ]
  },
  {
   "cell_type": "markdown",
   "id": "0e24f619",
   "metadata": {},
   "source": [
    "Be aware that if the module contains a sequential element, the submodules can only first be accessed by indexing. For example, let's inspect `layer1` of the model:"
   ]
  },
  {
   "cell_type": "code",
   "execution_count": 16,
   "id": "c45ecfef",
   "metadata": {},
   "outputs": [
    {
     "data": {
      "text/plain": [
       "Sequential(\n",
       "  (0): Bottleneck(\n",
       "    (conv1): Conv2d(64, 64, kernel_size=(1, 1), stride=(1, 1), bias=False)\n",
       "    (bn1): BatchNorm2d(64, eps=1e-05, momentum=0.1, affine=True, track_running_stats=True)\n",
       "    (conv2): Conv2d(64, 64, kernel_size=(3, 3), stride=(1, 1), padding=(1, 1), bias=False)\n",
       "    (bn2): BatchNorm2d(64, eps=1e-05, momentum=0.1, affine=True, track_running_stats=True)\n",
       "    (conv3): Conv2d(64, 256, kernel_size=(1, 1), stride=(1, 1), bias=False)\n",
       "    (bn3): BatchNorm2d(256, eps=1e-05, momentum=0.1, affine=True, track_running_stats=True)\n",
       "    (relu): ReLU(inplace=True)\n",
       "    (downsample): Sequential(\n",
       "      (0): Conv2d(64, 256, kernel_size=(1, 1), stride=(1, 1), bias=False)\n",
       "      (1): BatchNorm2d(256, eps=1e-05, momentum=0.1, affine=True, track_running_stats=True)\n",
       "    )\n",
       "  )\n",
       "  (1): Bottleneck(\n",
       "    (conv1): Conv2d(256, 64, kernel_size=(1, 1), stride=(1, 1), bias=False)\n",
       "    (bn1): BatchNorm2d(64, eps=1e-05, momentum=0.1, affine=True, track_running_stats=True)\n",
       "    (conv2): Conv2d(64, 64, kernel_size=(3, 3), stride=(1, 1), padding=(1, 1), bias=False)\n",
       "    (bn2): BatchNorm2d(64, eps=1e-05, momentum=0.1, affine=True, track_running_stats=True)\n",
       "    (conv3): Conv2d(64, 256, kernel_size=(1, 1), stride=(1, 1), bias=False)\n",
       "    (bn3): BatchNorm2d(256, eps=1e-05, momentum=0.1, affine=True, track_running_stats=True)\n",
       "    (relu): ReLU(inplace=True)\n",
       "  )\n",
       "  (2): Bottleneck(\n",
       "    (conv1): Conv2d(256, 64, kernel_size=(1, 1), stride=(1, 1), bias=False)\n",
       "    (bn1): BatchNorm2d(64, eps=1e-05, momentum=0.1, affine=True, track_running_stats=True)\n",
       "    (conv2): Conv2d(64, 64, kernel_size=(3, 3), stride=(1, 1), padding=(1, 1), bias=False)\n",
       "    (bn2): BatchNorm2d(64, eps=1e-05, momentum=0.1, affine=True, track_running_stats=True)\n",
       "    (conv3): Conv2d(64, 256, kernel_size=(1, 1), stride=(1, 1), bias=False)\n",
       "    (bn3): BatchNorm2d(256, eps=1e-05, momentum=0.1, affine=True, track_running_stats=True)\n",
       "    (relu): ReLU(inplace=True)\n",
       "  )\n",
       ")"
      ]
     },
     "execution_count": 16,
     "metadata": {},
     "output_type": "execute_result"
    }
   ],
   "source": [
    "resnet_model.layer1"
   ]
  },
  {
   "cell_type": "markdown",
   "id": "8e5fbbb4",
   "metadata": {},
   "source": [
    "If I wanted to access the first submodule of the first bottleneck layer in `layer1`, running `resnet_model.layer1.0.conv1` would fail. Uncomment the cell below to inspect the error it would raise:"
   ]
  },
  {
   "cell_type": "code",
   "execution_count": 17,
   "id": "cc145dd4",
   "metadata": {},
   "outputs": [],
   "source": [
    "#resnet_model.layer1.0.conv1"
   ]
  },
  {
   "cell_type": "markdown",
   "id": "c8704364",
   "metadata": {},
   "source": [
    "We need to index the sequential part instead:"
   ]
  },
  {
   "cell_type": "code",
   "execution_count": 18,
   "id": "925446d3",
   "metadata": {},
   "outputs": [
    {
     "data": {
      "text/plain": [
       "Conv2d(64, 64, kernel_size=(1, 1), stride=(1, 1), bias=False)"
      ]
     },
     "execution_count": 18,
     "metadata": {},
     "output_type": "execute_result"
    }
   ],
   "source": [
    "resnet_model.layer1[0].conv1"
   ]
  },
  {
   "cell_type": "markdown",
   "id": "cf4c7322",
   "metadata": {},
   "source": [
    "### `.children()`"
   ]
  },
  {
   "cell_type": "markdown",
   "id": "c40eb02c",
   "metadata": {},
   "source": [
    "The function `.children()` can be used to access the first level of children modules (or also called submodules)"
   ]
  },
  {
   "cell_type": "code",
   "execution_count": 19,
   "id": "060be30d",
   "metadata": {},
   "outputs": [
    {
     "name": "stdout",
     "output_type": "stream",
     "text": [
      "Conv2d(3, 64, kernel_size=(7, 7), stride=(2, 2), padding=(3, 3), bias=False)\n"
     ]
    }
   ],
   "source": [
    "resnet_children = list(resnet_model.children())\n",
    "print(resnet_children[0])"
   ]
  },
  {
   "cell_type": "code",
   "execution_count": 20,
   "id": "8b0d621e",
   "metadata": {
    "scrolled": true,
    "tags": []
   },
   "outputs": [
    {
     "name": "stdout",
     "output_type": "stream",
     "text": [
      "Sequential(\n",
      "  (0): Bottleneck(\n",
      "    (conv1): Conv2d(256, 128, kernel_size=(1, 1), stride=(1, 1), bias=False)\n",
      "    (bn1): BatchNorm2d(128, eps=1e-05, momentum=0.1, affine=True, track_running_stats=True)\n",
      "    (conv2): Conv2d(128, 128, kernel_size=(3, 3), stride=(2, 2), padding=(1, 1), bias=False)\n",
      "    (bn2): BatchNorm2d(128, eps=1e-05, momentum=0.1, affine=True, track_running_stats=True)\n",
      "    (conv3): Conv2d(128, 512, kernel_size=(1, 1), stride=(1, 1), bias=False)\n",
      "    (bn3): BatchNorm2d(512, eps=1e-05, momentum=0.1, affine=True, track_running_stats=True)\n",
      "    (relu): ReLU(inplace=True)\n",
      "    (downsample): Sequential(\n",
      "      (0): Conv2d(256, 512, kernel_size=(1, 1), stride=(2, 2), bias=False)\n",
      "      (1): BatchNorm2d(512, eps=1e-05, momentum=0.1, affine=True, track_running_stats=True)\n",
      "    )\n",
      "  )\n",
      "  (1): Bottleneck(\n",
      "    (conv1): Conv2d(512, 128, kernel_size=(1, 1), stride=(1, 1), bias=False)\n",
      "    (bn1): BatchNorm2d(128, eps=1e-05, momentum=0.1, affine=True, track_running_stats=True)\n",
      "    (conv2): Conv2d(128, 128, kernel_size=(3, 3), stride=(1, 1), padding=(1, 1), bias=False)\n",
      "    (bn2): BatchNorm2d(128, eps=1e-05, momentum=0.1, affine=True, track_running_stats=True)\n",
      "    (conv3): Conv2d(128, 512, kernel_size=(1, 1), stride=(1, 1), bias=False)\n",
      "    (bn3): BatchNorm2d(512, eps=1e-05, momentum=0.1, affine=True, track_running_stats=True)\n",
      "    (relu): ReLU(inplace=True)\n",
      "  )\n",
      "  (2): Bottleneck(\n",
      "    (conv1): Conv2d(512, 128, kernel_size=(1, 1), stride=(1, 1), bias=False)\n",
      "    (bn1): BatchNorm2d(128, eps=1e-05, momentum=0.1, affine=True, track_running_stats=True)\n",
      "    (conv2): Conv2d(128, 128, kernel_size=(3, 3), stride=(1, 1), padding=(1, 1), bias=False)\n",
      "    (bn2): BatchNorm2d(128, eps=1e-05, momentum=0.1, affine=True, track_running_stats=True)\n",
      "    (conv3): Conv2d(128, 512, kernel_size=(1, 1), stride=(1, 1), bias=False)\n",
      "    (bn3): BatchNorm2d(512, eps=1e-05, momentum=0.1, affine=True, track_running_stats=True)\n",
      "    (relu): ReLU(inplace=True)\n",
      "  )\n",
      "  (3): Bottleneck(\n",
      "    (conv1): Conv2d(512, 128, kernel_size=(1, 1), stride=(1, 1), bias=False)\n",
      "    (bn1): BatchNorm2d(128, eps=1e-05, momentum=0.1, affine=True, track_running_stats=True)\n",
      "    (conv2): Conv2d(128, 128, kernel_size=(3, 3), stride=(1, 1), padding=(1, 1), bias=False)\n",
      "    (bn2): BatchNorm2d(128, eps=1e-05, momentum=0.1, affine=True, track_running_stats=True)\n",
      "    (conv3): Conv2d(128, 512, kernel_size=(1, 1), stride=(1, 1), bias=False)\n",
      "    (bn3): BatchNorm2d(512, eps=1e-05, momentum=0.1, affine=True, track_running_stats=True)\n",
      "    (relu): ReLU(inplace=True)\n",
      "  )\n",
      ")\n"
     ]
    }
   ],
   "source": [
    "print(resnet_children[5])"
   ]
  },
  {
   "cell_type": "markdown",
   "id": "7d8ad7cd",
   "metadata": {},
   "source": [
    "If a children module contains other children modules, these won't be accessed. Let's see what happens when we access the next element:"
   ]
  },
  {
   "cell_type": "code",
   "execution_count": 21,
   "id": "b9ebf98f",
   "metadata": {
    "scrolled": true,
    "tags": []
   },
   "outputs": [
    {
     "name": "stdout",
     "output_type": "stream",
     "text": [
      "Sequential(\n",
      "  (0): Bottleneck(\n",
      "    (conv1): Conv2d(512, 256, kernel_size=(1, 1), stride=(1, 1), bias=False)\n",
      "    (bn1): BatchNorm2d(256, eps=1e-05, momentum=0.1, affine=True, track_running_stats=True)\n",
      "    (conv2): Conv2d(256, 256, kernel_size=(3, 3), stride=(2, 2), padding=(1, 1), bias=False)\n",
      "    (bn2): BatchNorm2d(256, eps=1e-05, momentum=0.1, affine=True, track_running_stats=True)\n",
      "    (conv3): Conv2d(256, 1024, kernel_size=(1, 1), stride=(1, 1), bias=False)\n",
      "    (bn3): BatchNorm2d(1024, eps=1e-05, momentum=0.1, affine=True, track_running_stats=True)\n",
      "    (relu): ReLU(inplace=True)\n",
      "    (downsample): Sequential(\n",
      "      (0): Conv2d(512, 1024, kernel_size=(1, 1), stride=(2, 2), bias=False)\n",
      "      (1): BatchNorm2d(1024, eps=1e-05, momentum=0.1, affine=True, track_running_stats=True)\n",
      "    )\n",
      "  )\n",
      "  (1): Bottleneck(\n",
      "    (conv1): Conv2d(1024, 256, kernel_size=(1, 1), stride=(1, 1), bias=False)\n",
      "    (bn1): BatchNorm2d(256, eps=1e-05, momentum=0.1, affine=True, track_running_stats=True)\n",
      "    (conv2): Conv2d(256, 256, kernel_size=(3, 3), stride=(1, 1), padding=(1, 1), bias=False)\n",
      "    (bn2): BatchNorm2d(256, eps=1e-05, momentum=0.1, affine=True, track_running_stats=True)\n",
      "    (conv3): Conv2d(256, 1024, kernel_size=(1, 1), stride=(1, 1), bias=False)\n",
      "    (bn3): BatchNorm2d(1024, eps=1e-05, momentum=0.1, affine=True, track_running_stats=True)\n",
      "    (relu): ReLU(inplace=True)\n",
      "  )\n",
      "  (2): Bottleneck(\n",
      "    (conv1): Conv2d(1024, 256, kernel_size=(1, 1), stride=(1, 1), bias=False)\n",
      "    (bn1): BatchNorm2d(256, eps=1e-05, momentum=0.1, affine=True, track_running_stats=True)\n",
      "    (conv2): Conv2d(256, 256, kernel_size=(3, 3), stride=(1, 1), padding=(1, 1), bias=False)\n",
      "    (bn2): BatchNorm2d(256, eps=1e-05, momentum=0.1, affine=True, track_running_stats=True)\n",
      "    (conv3): Conv2d(256, 1024, kernel_size=(1, 1), stride=(1, 1), bias=False)\n",
      "    (bn3): BatchNorm2d(1024, eps=1e-05, momentum=0.1, affine=True, track_running_stats=True)\n",
      "    (relu): ReLU(inplace=True)\n",
      "  )\n",
      "  (3): Bottleneck(\n",
      "    (conv1): Conv2d(1024, 256, kernel_size=(1, 1), stride=(1, 1), bias=False)\n",
      "    (bn1): BatchNorm2d(256, eps=1e-05, momentum=0.1, affine=True, track_running_stats=True)\n",
      "    (conv2): Conv2d(256, 256, kernel_size=(3, 3), stride=(1, 1), padding=(1, 1), bias=False)\n",
      "    (bn2): BatchNorm2d(256, eps=1e-05, momentum=0.1, affine=True, track_running_stats=True)\n",
      "    (conv3): Conv2d(256, 1024, kernel_size=(1, 1), stride=(1, 1), bias=False)\n",
      "    (bn3): BatchNorm2d(1024, eps=1e-05, momentum=0.1, affine=True, track_running_stats=True)\n",
      "    (relu): ReLU(inplace=True)\n",
      "  )\n",
      "  (4): Bottleneck(\n",
      "    (conv1): Conv2d(1024, 256, kernel_size=(1, 1), stride=(1, 1), bias=False)\n",
      "    (bn1): BatchNorm2d(256, eps=1e-05, momentum=0.1, affine=True, track_running_stats=True)\n",
      "    (conv2): Conv2d(256, 256, kernel_size=(3, 3), stride=(1, 1), padding=(1, 1), bias=False)\n",
      "    (bn2): BatchNorm2d(256, eps=1e-05, momentum=0.1, affine=True, track_running_stats=True)\n",
      "    (conv3): Conv2d(256, 1024, kernel_size=(1, 1), stride=(1, 1), bias=False)\n",
      "    (bn3): BatchNorm2d(1024, eps=1e-05, momentum=0.1, affine=True, track_running_stats=True)\n",
      "    (relu): ReLU(inplace=True)\n",
      "  )\n",
      "  (5): Bottleneck(\n",
      "    (conv1): Conv2d(1024, 256, kernel_size=(1, 1), stride=(1, 1), bias=False)\n",
      "    (bn1): BatchNorm2d(256, eps=1e-05, momentum=0.1, affine=True, track_running_stats=True)\n",
      "    (conv2): Conv2d(256, 256, kernel_size=(3, 3), stride=(1, 1), padding=(1, 1), bias=False)\n",
      "    (bn2): BatchNorm2d(256, eps=1e-05, momentum=0.1, affine=True, track_running_stats=True)\n",
      "    (conv3): Conv2d(256, 1024, kernel_size=(1, 1), stride=(1, 1), bias=False)\n",
      "    (bn3): BatchNorm2d(1024, eps=1e-05, momentum=0.1, affine=True, track_running_stats=True)\n",
      "    (relu): ReLU(inplace=True)\n",
      "  )\n",
      ")\n"
     ]
    }
   ],
   "source": [
    "print(resnet_children[6])"
   ]
  },
  {
   "cell_type": "markdown",
   "id": "d10b264d",
   "metadata": {},
   "source": [
    "But we can always access these submodules by calling children on the children module:"
   ]
  },
  {
   "cell_type": "code",
   "execution_count": 22,
   "id": "66b4cfdb",
   "metadata": {},
   "outputs": [
    {
     "name": "stdout",
     "output_type": "stream",
     "text": [
      "Bottleneck(\n",
      "  (conv1): Conv2d(512, 256, kernel_size=(1, 1), stride=(1, 1), bias=False)\n",
      "  (bn1): BatchNorm2d(256, eps=1e-05, momentum=0.1, affine=True, track_running_stats=True)\n",
      "  (conv2): Conv2d(256, 256, kernel_size=(3, 3), stride=(2, 2), padding=(1, 1), bias=False)\n",
      "  (bn2): BatchNorm2d(256, eps=1e-05, momentum=0.1, affine=True, track_running_stats=True)\n",
      "  (conv3): Conv2d(256, 1024, kernel_size=(1, 1), stride=(1, 1), bias=False)\n",
      "  (bn3): BatchNorm2d(1024, eps=1e-05, momentum=0.1, affine=True, track_running_stats=True)\n",
      "  (relu): ReLU(inplace=True)\n",
      "  (downsample): Sequential(\n",
      "    (0): Conv2d(512, 1024, kernel_size=(1, 1), stride=(2, 2), bias=False)\n",
      "    (1): BatchNorm2d(1024, eps=1e-05, momentum=0.1, affine=True, track_running_stats=True)\n",
      "  )\n",
      ")\n"
     ]
    }
   ],
   "source": [
    "second_level_children = list(resnet_children[6].children())\n",
    "print(second_level_children[0])"
   ]
  },
  {
   "cell_type": "code",
   "execution_count": 23,
   "id": "c989572a",
   "metadata": {},
   "outputs": [
    {
     "name": "stdout",
     "output_type": "stream",
     "text": [
      "Conv2d(512, 256, kernel_size=(1, 1), stride=(1, 1), bias=False)\n"
     ]
    }
   ],
   "source": [
    "third_level_children = list(second_level_children[0].children())\n",
    "print(third_level_children[0])"
   ]
  },
  {
   "cell_type": "markdown",
   "id": "87596b72",
   "metadata": {},
   "source": [
    "We can also use [`named_children()`]() to both return the modules and their names. Let's print the names of the first level children modules:"
   ]
  },
  {
   "cell_type": "code",
   "execution_count": 24,
   "id": "2d121298",
   "metadata": {},
   "outputs": [
    {
     "name": "stdout",
     "output_type": "stream",
     "text": [
      "['conv1', 'bn1', 'relu', 'maxpool', 'layer1', 'layer2', 'layer3', 'layer4', 'avgpool', 'fc']\n"
     ]
    }
   ],
   "source": [
    "# use list comprehension to only store the name of the children modules\n",
    "resnet_children_names = [name for name, _ in resnet_model.named_children()]\n",
    "print(resnet_children_names)"
   ]
  },
  {
   "cell_type": "markdown",
   "id": "ab23f2e1",
   "metadata": {},
   "source": [
    "## Inspect the parameters of the model"
   ]
  },
  {
   "cell_type": "markdown",
   "id": "eafa0914",
   "metadata": {},
   "source": [
    "### `.parameters()`\n",
    "\n",
    "In pytorch, the learnable parameters of the model can be accessed by calling the generator function `.parameters()`."
   ]
  },
  {
   "cell_type": "code",
   "execution_count": 25,
   "id": "59e85a5b",
   "metadata": {},
   "outputs": [
    {
     "name": "stdout",
     "output_type": "stream",
     "text": [
      "Number of parameters: 161\n"
     ]
    }
   ],
   "source": [
    "resnet_parameters = list(resnet_model.parameters())\n",
    "print(f\"Number of parameters: {len(resnet_parameters)}\")"
   ]
  },
  {
   "cell_type": "markdown",
   "id": "b2ffb895",
   "metadata": {},
   "source": [
    "Let's inspect the contents of the first parameter:"
   ]
  },
  {
   "cell_type": "code",
   "execution_count": 26,
   "id": "3cf8076c",
   "metadata": {},
   "outputs": [
    {
     "name": "stdout",
     "output_type": "stream",
     "text": [
      "type: <class 'torch.nn.parameter.Parameter'>\n",
      "shape: torch.Size([64, 3, 7, 7])\n",
      "content: Parameter containing:\n",
      "tensor([[[[ 1.3335e-02,  1.4664e-02, -1.5351e-02,  ..., -4.0896e-02,\n",
      "           -4.3034e-02, -7.0755e-02],\n",
      "          [ 4.1205e-03,  5.8477e-03,  1.4948e-02,  ...,  2.2060e-03,\n",
      "           -2.0912e-02, -3.8517e-02],\n",
      "          [ 2.2331e-02,  2.3595e-02,  1.6120e-02,  ...,  1.0281e-01,\n",
      "            6.2641e-02,  5.1977e-02],\n",
      "          ...,\n",
      "          [-9.0349e-04,  2.7767e-02, -1.0105e-02,  ..., -1.2722e-01,\n",
      "           -7.6604e-02,  7.8453e-03],\n",
      "          [ 3.5894e-03,  4.8006e-02,  6.2051e-02,  ...,  2.4267e-02,\n",
      "           -3.3662e-02, -1.5709e-02],\n",
      "          [-8.0029e-02, -3.2238e-02, -1.7808e-02,  ...,  3.5359e-02,\n",
      "            2.2439e-02,  1.7077e-03]],\n",
      "\n",
      "         [[-1.8452e-02,  1.1415e-02,  2.3850e-02,  ...,  5.3736e-02,\n",
      "            4.4022e-02, -9.4675e-03],\n",
      "          [-7.7273e-03,  1.8890e-02,  6.7981e-02,  ...,  1.5956e-01,\n",
      "            1.4606e-01,  1.1999e-01],\n",
      "          [-4.6013e-02, -7.6075e-02, -8.9648e-02,  ...,  1.2108e-01,\n",
      "            1.6705e-01,  1.7619e-01],\n",
      "          ...,\n",
      "          [ 2.8818e-02,  1.3665e-02, -8.3825e-02,  ..., -3.8081e-01,\n",
      "           -3.0414e-01, -1.3966e-01],\n",
      "          [ 8.2868e-02,  1.3864e-01,  1.5241e-01,  ..., -5.1232e-03,\n",
      "           -1.2435e-01, -1.2967e-01],\n",
      "          [-7.2789e-03,  7.7021e-02,  1.3999e-01,  ...,  1.8427e-01,\n",
      "            1.1144e-01,  2.3438e-02]],\n",
      "\n",
      "         [[-1.8311e-02, -5.6424e-03,  8.7224e-03,  ...,  2.5775e-02,\n",
      "            2.6431e-02, -3.9914e-03],\n",
      "          [-1.0098e-02,  4.1615e-03,  4.9730e-02,  ...,  1.2447e-01,\n",
      "            1.1950e-01,  1.1198e-01],\n",
      "          [-6.3478e-02, -1.0146e-01, -9.8343e-02,  ...,  1.0630e-01,\n",
      "            1.3982e-01,  1.4942e-01],\n",
      "          ...,\n",
      "          [ 2.5810e-02,  1.0501e-02, -7.4578e-02,  ..., -3.1385e-01,\n",
      "           -2.5495e-01, -1.2276e-01],\n",
      "          [ 7.3049e-02,  1.1170e-01,  1.3093e-01,  ..., -6.4584e-03,\n",
      "           -1.2548e-01, -1.2446e-01],\n",
      "          [-6.4210e-03,  6.6393e-02,  1.2177e-01,  ...,  1.9075e-01,\n",
      "            1.1415e-01,  2.3337e-02]]],\n",
      "\n",
      "\n",
      "        [[[ 6.8609e-02,  3.7955e-02,  5.3564e-02,  ...,  2.6891e-02,\n",
      "            4.8369e-02,  6.3264e-02],\n",
      "          [ 6.1844e-02,  1.8407e-02,  2.2672e-02,  ..., -4.8800e-02,\n",
      "           -2.2130e-02, -5.7287e-03],\n",
      "          [ 5.6553e-02,  1.4883e-02, -6.9185e-03,  ..., -1.2919e-01,\n",
      "           -9.5042e-02, -5.8671e-02],\n",
      "          ...,\n",
      "          [ 2.3802e-02, -5.2273e-02, -1.1277e-01,  ..., -2.5591e-01,\n",
      "           -2.4049e-01, -2.0315e-01],\n",
      "          [ 5.6221e-02, -2.1824e-02, -5.9207e-02,  ..., -2.3806e-01,\n",
      "           -1.9836e-01, -1.6578e-01],\n",
      "          [ 5.9635e-02,  3.7172e-03, -4.8716e-02,  ..., -1.6098e-01,\n",
      "           -1.4336e-01, -1.0251e-01]],\n",
      "\n",
      "         [[-9.9041e-02, -7.2129e-02, -7.2748e-02,  ..., -3.6232e-02,\n",
      "           -8.1876e-02, -8.8119e-02],\n",
      "          [-7.0621e-02, -3.9200e-02, -1.0514e-02,  ...,  5.9519e-02,\n",
      "            2.5891e-02, -1.3287e-02],\n",
      "          [-9.3963e-02, -2.5318e-02,  3.0725e-02,  ...,  2.0738e-01,\n",
      "            1.6162e-01,  8.6865e-02],\n",
      "          ...,\n",
      "          [-3.9978e-02,  6.4148e-02,  1.6941e-01,  ...,  4.5814e-01,\n",
      "            3.7839e-01,  2.5870e-01],\n",
      "          [-6.4985e-02,  1.3637e-02,  1.3008e-01,  ...,  3.6661e-01,\n",
      "            3.2009e-01,  2.0442e-01],\n",
      "          [-1.0433e-01, -2.7216e-02,  4.1199e-02,  ...,  2.2797e-01,\n",
      "            1.8622e-01,  1.1854e-01]],\n",
      "\n",
      "         [[ 4.2717e-02,  4.7269e-02,  1.7798e-02,  ...,  3.4693e-02,\n",
      "            2.8595e-02,  4.3173e-02],\n",
      "          [ 3.6308e-02,  3.3459e-02, -1.2449e-03,  ...,  4.2910e-03,\n",
      "            4.6513e-03,  2.4962e-02],\n",
      "          [ 2.3541e-02,  1.6826e-02, -1.5325e-02,  ..., -7.2865e-02,\n",
      "           -7.2030e-02, -2.3747e-02],\n",
      "          ...,\n",
      "          [ 2.9623e-02,  1.8176e-03, -7.9559e-02,  ..., -1.8138e-01,\n",
      "           -1.6950e-01, -6.1192e-02],\n",
      "          [ 3.5233e-02, -8.5295e-03, -5.4253e-02,  ..., -1.5068e-01,\n",
      "           -1.2747e-01, -4.5340e-02],\n",
      "          [ 5.4786e-02,  3.9805e-02, -1.0473e-02,  ..., -4.2332e-02,\n",
      "           -5.2220e-02,  5.1277e-04]]],\n",
      "\n",
      "\n",
      "        [[[ 7.3052e-03,  1.5686e-02, -2.4423e-04,  ..., -3.2539e-02,\n",
      "           -3.1297e-02, -3.0249e-02],\n",
      "          [ 8.6377e-03,  2.4622e-02,  1.1249e-02,  ..., -1.0645e-02,\n",
      "           -1.5026e-02, -3.4091e-02],\n",
      "          [ 7.7960e-03,  3.1337e-02,  2.5109e-02,  ...,  1.2514e-02,\n",
      "           -5.7764e-04, -5.3505e-03],\n",
      "          ...,\n",
      "          [-1.0597e-03,  1.3395e-02,  1.1477e-03,  ...,  3.6588e-02,\n",
      "            4.6791e-02,  7.5218e-02],\n",
      "          [-1.5273e-02,  8.1007e-03, -7.3382e-04,  ...,  3.7322e-03,\n",
      "            1.9803e-02,  7.4966e-02],\n",
      "          [-1.9642e-02, -1.8543e-03, -6.9084e-03,  ..., -3.2996e-03,\n",
      "            2.8972e-02,  8.7559e-02]],\n",
      "\n",
      "         [[ 1.2775e-02,  8.8500e-03,  2.3261e-03,  ...,  1.3541e-02,\n",
      "            3.6049e-02,  4.8399e-02],\n",
      "          [ 1.4153e-02,  1.1684e-02, -2.9641e-03,  ...,  2.7169e-02,\n",
      "            5.1851e-02,  3.8690e-02],\n",
      "          [ 3.1984e-03,  5.0850e-03, -9.3271e-03,  ...,  4.1137e-02,\n",
      "            5.4548e-02,  4.5094e-02],\n",
      "          ...,\n",
      "          [-1.7035e-02, -4.2867e-02, -8.4639e-02,  ..., -4.9248e-02,\n",
      "           -2.3901e-02,  2.6232e-03],\n",
      "          [-2.8155e-03, -8.8370e-03, -4.8081e-02,  ..., -8.6432e-02,\n",
      "           -7.1647e-02, -2.3398e-02],\n",
      "          [ 2.8788e-02,  2.3000e-02, -4.6879e-03,  ..., -5.0775e-02,\n",
      "           -3.9457e-02, -7.1134e-03]],\n",
      "\n",
      "         [[ 9.3511e-03, -3.6039e-02, -3.1732e-02,  ...,  3.4844e-03,\n",
      "            4.3197e-02,  4.5083e-02],\n",
      "          [-1.1875e-02, -5.8264e-02, -6.3004e-02,  ..., -1.7674e-02,\n",
      "            1.5884e-02, -7.6554e-03],\n",
      "          [ 1.4215e-02, -3.3805e-02, -5.0096e-02,  ..., -2.1366e-03,\n",
      "            6.0525e-03, -8.0126e-03],\n",
      "          ...,\n",
      "          [ 8.0828e-03, -4.9916e-02, -9.0253e-02,  ..., -8.7565e-02,\n",
      "           -9.9468e-02, -1.0924e-01],\n",
      "          [ 1.8781e-02, -1.4367e-02, -4.6708e-02,  ..., -1.1187e-01,\n",
      "           -1.4514e-01, -1.4444e-01],\n",
      "          [ 5.7803e-02,  1.7252e-02, -5.7767e-03,  ..., -7.4414e-02,\n",
      "           -1.1313e-01, -1.2434e-01]]],\n",
      "\n",
      "\n",
      "        ...,\n",
      "\n",
      "\n",
      "        [[[ 1.5639e-02,  2.0411e-02,  3.5717e-02,  ...,  7.1576e-03,\n",
      "            4.5493e-02, -7.6534e-03],\n",
      "          [-2.1845e-02,  5.6129e-02,  6.0663e-02,  ..., -5.6907e-02,\n",
      "            8.5169e-02, -2.6663e-02],\n",
      "          [-4.7579e-02,  1.0689e-01,  7.5667e-02,  ..., -8.8005e-02,\n",
      "            1.5159e-01, -3.2074e-02],\n",
      "          ...,\n",
      "          [ 1.4774e-03,  1.2554e-01, -4.9284e-02,  ...,  5.9099e-02,\n",
      "            1.5756e-01, -4.1167e-02],\n",
      "          [ 5.0183e-03,  6.2567e-02, -5.8753e-02,  ...,  4.7302e-02,\n",
      "            8.2366e-02, -4.6016e-02],\n",
      "          [ 1.6201e-02,  5.4047e-03, -6.5849e-02,  ...,  5.1001e-02,\n",
      "            4.6469e-02, -1.6759e-02]],\n",
      "\n",
      "         [[ 1.0200e-02,  4.4592e-02,  1.5321e-03,  ..., -6.6545e-02,\n",
      "            4.5731e-02,  4.8529e-02],\n",
      "          [ 4.5088e-03,  1.2873e-01,  3.0149e-02,  ..., -1.4642e-01,\n",
      "            1.4743e-01,  8.3739e-02],\n",
      "          [ 5.6123e-03,  2.1745e-01,  3.0934e-02,  ..., -1.8033e-01,\n",
      "            2.6112e-01,  9.4205e-02],\n",
      "          ...,\n",
      "          [ 4.6450e-02,  1.9461e-01, -1.3893e-01,  ...,  4.3828e-02,\n",
      "            2.8577e-01,  5.1682e-02],\n",
      "          [ 2.5445e-02,  9.4402e-02, -1.3597e-01,  ...,  5.5534e-02,\n",
      "            1.5707e-01, -1.3938e-02],\n",
      "          [ 1.6235e-02,  2.9242e-02, -1.0514e-01,  ...,  7.2561e-02,\n",
      "            8.2445e-02, -1.0449e-02]],\n",
      "\n",
      "         [[ 7.6312e-04,  2.2041e-02,  1.2029e-02,  ..., -3.9314e-02,\n",
      "            7.8765e-03,  1.1339e-02],\n",
      "          [-2.6744e-02,  7.6046e-02,  6.5150e-02,  ..., -5.3509e-02,\n",
      "            7.7586e-02,  1.5460e-02],\n",
      "          [-4.3151e-02,  1.2443e-01,  7.8582e-02,  ..., -7.2363e-02,\n",
      "            1.3668e-01, -3.7664e-03],\n",
      "          ...,\n",
      "          [-4.8974e-03,  1.2171e-01, -4.9993e-02,  ...,  4.0816e-02,\n",
      "            1.2784e-01, -2.7264e-02],\n",
      "          [-5.7832e-03,  6.6111e-02, -4.9786e-02,  ...,  3.8487e-02,\n",
      "            6.9511e-02, -4.3904e-02],\n",
      "          [ 3.3817e-03,  3.2986e-02, -4.2698e-02,  ...,  4.3439e-02,\n",
      "            3.3467e-02, -2.9978e-02]]],\n",
      "\n",
      "\n",
      "        [[[ 4.5842e-02,  5.2311e-02,  4.4927e-02,  ..., -2.9410e-02,\n",
      "            4.5506e-03,  1.4374e-02],\n",
      "          [ 5.2478e-02,  5.1215e-02,  4.7960e-02,  ..., -1.1274e-01,\n",
      "           -8.2460e-02, -2.5520e-02],\n",
      "          [ 9.0280e-02,  7.7345e-02,  6.7258e-02,  ..., -2.1452e-01,\n",
      "           -1.1146e-01, -1.7177e-02],\n",
      "          ...,\n",
      "          [ 3.2732e-02,  7.1492e-05, -1.5341e-01,  ..., -2.5537e-01,\n",
      "           -1.1447e-01,  4.2084e-02],\n",
      "          [ 1.9229e-02, -2.7870e-02, -1.4789e-01,  ..., -2.4871e-01,\n",
      "           -3.0199e-02,  8.2352e-02],\n",
      "          [-6.6101e-03, -5.7227e-02, -1.5145e-01,  ..., -1.8681e-01,\n",
      "            9.7780e-03,  9.8369e-02]],\n",
      "\n",
      "         [[-3.1084e-03,  1.2002e-02,  1.6918e-02,  ...,  4.7799e-03,\n",
      "            4.7867e-03, -8.5661e-04],\n",
      "          [ 1.9549e-02,  1.5186e-02,  3.4710e-02,  ..., -4.2644e-03,\n",
      "           -1.3299e-02, -5.1674e-03],\n",
      "          [ 2.0221e-02,  1.1181e-02,  5.0552e-02,  ..., -6.5437e-02,\n",
      "           -6.4139e-03,  1.8563e-02],\n",
      "          ...,\n",
      "          [-1.1129e-02,  1.0629e-02, -4.2425e-02,  ..., -4.8182e-02,\n",
      "           -2.8246e-02,  4.6424e-02],\n",
      "          [ 7.5653e-03,  1.1309e-02, -1.3535e-02,  ..., -6.6639e-02,\n",
      "            1.0465e-02,  3.6264e-02],\n",
      "          [ 9.8492e-03,  6.3770e-03, -1.5771e-04,  ..., -3.0868e-02,\n",
      "            2.6524e-02,  3.0090e-02]],\n",
      "\n",
      "         [[-4.2418e-02, -2.3199e-02, -2.2478e-02,  ...,  1.4661e-02,\n",
      "            1.2153e-02, -2.1124e-02],\n",
      "          [-2.9424e-02, -2.5660e-02,  1.4858e-03,  ...,  4.2752e-02,\n",
      "            2.1531e-02, -5.6081e-03],\n",
      "          [-3.9465e-02, -4.5056e-02,  1.4975e-02,  ...,  3.0639e-02,\n",
      "            4.1439e-02, -7.7498e-03],\n",
      "          ...,\n",
      "          [-3.1252e-02,  7.7716e-03,  1.5953e-02,  ...,  6.3187e-02,\n",
      "            4.8559e-03, -2.9812e-02],\n",
      "          [-1.2930e-02,  1.6789e-02,  4.8435e-02,  ...,  4.6301e-02,\n",
      "            2.6589e-02, -4.1627e-02],\n",
      "          [-1.7138e-02,  7.2573e-03,  4.8229e-02,  ...,  3.5378e-02,\n",
      "            1.4400e-02, -4.7261e-02]]],\n",
      "\n",
      "\n",
      "        [[[ 1.9836e-02, -2.8316e-02,  6.1643e-02,  ..., -5.2705e-02,\n",
      "            9.8331e-03,  4.9678e-03],\n",
      "          [-4.6186e-02,  5.3722e-02, -2.6572e-02,  ...,  1.9153e-02,\n",
      "           -2.2031e-02, -1.3209e-02],\n",
      "          [ 5.2939e-02, -4.4223e-02, -3.7457e-02,  ..., -2.1368e-01,\n",
      "           -2.1620e-03,  3.4433e-02],\n",
      "          ...,\n",
      "          [-3.5689e-02,  9.3666e-02,  1.1909e-01,  ...,  5.2430e-01,\n",
      "           -4.5373e-02, -5.9195e-02],\n",
      "          [-1.1405e-02,  1.0079e-01, -1.9849e-01,  ...,  2.3351e-01,\n",
      "           -2.6296e-01,  1.2434e-01],\n",
      "          [-1.4071e-02,  5.2204e-03, -7.5740e-02,  ..., -5.6693e-02,\n",
      "            3.3713e-02, -3.4239e-02]],\n",
      "\n",
      "         [[ 1.8626e-02, -3.9080e-02,  4.1489e-02,  ..., -4.2309e-02,\n",
      "            2.7354e-02, -5.3296e-03],\n",
      "          [-4.5311e-02,  6.2526e-02, -1.8939e-02,  ...,  2.9117e-02,\n",
      "            3.0331e-03, -1.8276e-03],\n",
      "          [ 3.6988e-02, -6.5929e-02, -2.1645e-02,  ..., -2.6028e-01,\n",
      "            5.6034e-02,  3.7797e-02],\n",
      "          ...,\n",
      "          [-3.4665e-02,  1.2999e-01,  1.2347e-01,  ...,  6.5182e-01,\n",
      "           -1.6673e-02, -1.2347e-01],\n",
      "          [-1.9596e-02,  1.2236e-01, -2.4884e-01,  ...,  3.3043e-01,\n",
      "           -3.2030e-01,  9.4385e-02],\n",
      "          [ 2.0938e-03,  2.5218e-02, -8.2988e-02,  ..., -6.9019e-02,\n",
      "            2.0379e-02, -1.5437e-02]],\n",
      "\n",
      "         [[ 1.3068e-02, -3.7082e-02,  1.9962e-02,  ..., -4.6411e-02,\n",
      "            2.6141e-02,  2.5953e-03],\n",
      "          [-3.3303e-02,  7.5309e-02, -2.8833e-02,  ...,  4.7499e-02,\n",
      "           -7.2355e-03, -1.5955e-02],\n",
      "          [ 6.1195e-02, -4.4915e-02, -1.3650e-01,  ..., -1.3014e-01,\n",
      "            6.3804e-03,  1.3756e-02],\n",
      "          ...,\n",
      "          [-1.5692e-02,  8.1412e-03,  1.4574e-01,  ...,  4.6457e-01,\n",
      "           -1.6762e-01, -2.8489e-02],\n",
      "          [-4.5328e-02,  3.7344e-02, -1.2535e-01,  ...,  1.0561e-01,\n",
      "           -2.7718e-01,  1.6692e-01],\n",
      "          [ 1.0456e-02,  1.9020e-02, -1.5351e-02,  ..., -1.1350e-01,\n",
      "            6.7615e-02, -6.7650e-03]]]], requires_grad=True)\n"
     ]
    }
   ],
   "source": [
    "print(f\"type: {type(resnet_parameters[0])}\")\n",
    "print(f\"shape: {resnet_parameters[0].shape}\")\n",
    "print(f\"content: {resnet_parameters[0]}\")"
   ]
  },
  {
   "cell_type": "markdown",
   "id": "f0686dbb",
   "metadata": {},
   "source": [
    "Let's inspect the shape of the first ten parameter:"
   ]
  },
  {
   "cell_type": "code",
   "execution_count": 27,
   "id": "4f5a5584",
   "metadata": {},
   "outputs": [
    {
     "data": {
      "text/plain": [
       "[torch.Size([64, 3, 7, 7]),\n",
       " torch.Size([64]),\n",
       " torch.Size([64]),\n",
       " torch.Size([64, 64, 1, 1]),\n",
       " torch.Size([64]),\n",
       " torch.Size([64]),\n",
       " torch.Size([64, 64, 3, 3]),\n",
       " torch.Size([64]),\n",
       " torch.Size([64]),\n",
       " torch.Size([256, 64, 1, 1])]"
      ]
     },
     "execution_count": 27,
     "metadata": {},
     "output_type": "execute_result"
    }
   ],
   "source": [
    "parameters_size = [parameter.shape for parameter in resnet_parameters]\n",
    "parameters_size[:10]"
   ]
  },
  {
   "cell_type": "markdown",
   "id": "5cf1b744",
   "metadata": {},
   "source": [
    "### `named_parameters()`\n",
    "\n",
    "To more easily explore what each parameter represents, we can use `named_parameters()` which outputs both the name of the parameter and its contents. Let's print the name of the first ten parameters and their shape:"
   ]
  },
  {
   "cell_type": "code",
   "execution_count": 28,
   "id": "61b1841d",
   "metadata": {
    "scrolled": true,
    "tags": []
   },
   "outputs": [
    {
     "data": {
      "text/plain": [
       "['conv1.weight: torch.Size([64, 3, 7, 7])',\n",
       " 'bn1.weight: torch.Size([64])',\n",
       " 'bn1.bias: torch.Size([64])',\n",
       " 'layer1.0.conv1.weight: torch.Size([64, 64, 1, 1])',\n",
       " 'layer1.0.bn1.weight: torch.Size([64])',\n",
       " 'layer1.0.bn1.bias: torch.Size([64])',\n",
       " 'layer1.0.conv2.weight: torch.Size([64, 64, 3, 3])',\n",
       " 'layer1.0.bn2.weight: torch.Size([64])',\n",
       " 'layer1.0.bn2.bias: torch.Size([64])',\n",
       " 'layer1.0.conv3.weight: torch.Size([256, 64, 1, 1])']"
      ]
     },
     "execution_count": 28,
     "metadata": {},
     "output_type": "execute_result"
    }
   ],
   "source": [
    "resnet_named_parameters = [f\"{name}: {parameter.shape}\" for name, parameter in resnet_model.named_parameters()]\n",
    "resnet_named_parameters[:10]"
   ]
  },
  {
   "cell_type": "markdown",
   "id": "b1c86030",
   "metadata": {},
   "source": [
    "### `{parameter_name}`\n",
    "\n",
    "If we know the parameter names, we can also access them directly like:"
   ]
  },
  {
   "cell_type": "code",
   "execution_count": 29,
   "id": "932bb5b7",
   "metadata": {},
   "outputs": [
    {
     "data": {
      "text/plain": [
       "Parameter containing:\n",
       "tensor([[[[ 1.3335e-02,  1.4664e-02, -1.5351e-02,  ..., -4.0896e-02,\n",
       "           -4.3034e-02, -7.0755e-02],\n",
       "          [ 4.1205e-03,  5.8477e-03,  1.4948e-02,  ...,  2.2060e-03,\n",
       "           -2.0912e-02, -3.8517e-02],\n",
       "          [ 2.2331e-02,  2.3595e-02,  1.6120e-02,  ...,  1.0281e-01,\n",
       "            6.2641e-02,  5.1977e-02],\n",
       "          ...,\n",
       "          [-9.0349e-04,  2.7767e-02, -1.0105e-02,  ..., -1.2722e-01,\n",
       "           -7.6604e-02,  7.8453e-03],\n",
       "          [ 3.5894e-03,  4.8006e-02,  6.2051e-02,  ...,  2.4267e-02,\n",
       "           -3.3662e-02, -1.5709e-02],\n",
       "          [-8.0029e-02, -3.2238e-02, -1.7808e-02,  ...,  3.5359e-02,\n",
       "            2.2439e-02,  1.7077e-03]],\n",
       "\n",
       "         [[-1.8452e-02,  1.1415e-02,  2.3850e-02,  ...,  5.3736e-02,\n",
       "            4.4022e-02, -9.4675e-03],\n",
       "          [-7.7273e-03,  1.8890e-02,  6.7981e-02,  ...,  1.5956e-01,\n",
       "            1.4606e-01,  1.1999e-01],\n",
       "          [-4.6013e-02, -7.6075e-02, -8.9648e-02,  ...,  1.2108e-01,\n",
       "            1.6705e-01,  1.7619e-01],\n",
       "          ...,\n",
       "          [ 2.8818e-02,  1.3665e-02, -8.3825e-02,  ..., -3.8081e-01,\n",
       "           -3.0414e-01, -1.3966e-01],\n",
       "          [ 8.2868e-02,  1.3864e-01,  1.5241e-01,  ..., -5.1232e-03,\n",
       "           -1.2435e-01, -1.2967e-01],\n",
       "          [-7.2789e-03,  7.7021e-02,  1.3999e-01,  ...,  1.8427e-01,\n",
       "            1.1144e-01,  2.3438e-02]],\n",
       "\n",
       "         [[-1.8311e-02, -5.6424e-03,  8.7224e-03,  ...,  2.5775e-02,\n",
       "            2.6431e-02, -3.9914e-03],\n",
       "          [-1.0098e-02,  4.1615e-03,  4.9730e-02,  ...,  1.2447e-01,\n",
       "            1.1950e-01,  1.1198e-01],\n",
       "          [-6.3478e-02, -1.0146e-01, -9.8343e-02,  ...,  1.0630e-01,\n",
       "            1.3982e-01,  1.4942e-01],\n",
       "          ...,\n",
       "          [ 2.5810e-02,  1.0501e-02, -7.4578e-02,  ..., -3.1385e-01,\n",
       "           -2.5495e-01, -1.2276e-01],\n",
       "          [ 7.3049e-02,  1.1170e-01,  1.3093e-01,  ..., -6.4584e-03,\n",
       "           -1.2548e-01, -1.2446e-01],\n",
       "          [-6.4210e-03,  6.6393e-02,  1.2177e-01,  ...,  1.9075e-01,\n",
       "            1.1415e-01,  2.3337e-02]]],\n",
       "\n",
       "\n",
       "        [[[ 6.8609e-02,  3.7955e-02,  5.3564e-02,  ...,  2.6891e-02,\n",
       "            4.8369e-02,  6.3264e-02],\n",
       "          [ 6.1844e-02,  1.8407e-02,  2.2672e-02,  ..., -4.8800e-02,\n",
       "           -2.2130e-02, -5.7287e-03],\n",
       "          [ 5.6553e-02,  1.4883e-02, -6.9185e-03,  ..., -1.2919e-01,\n",
       "           -9.5042e-02, -5.8671e-02],\n",
       "          ...,\n",
       "          [ 2.3802e-02, -5.2273e-02, -1.1277e-01,  ..., -2.5591e-01,\n",
       "           -2.4049e-01, -2.0315e-01],\n",
       "          [ 5.6221e-02, -2.1824e-02, -5.9207e-02,  ..., -2.3806e-01,\n",
       "           -1.9836e-01, -1.6578e-01],\n",
       "          [ 5.9635e-02,  3.7172e-03, -4.8716e-02,  ..., -1.6098e-01,\n",
       "           -1.4336e-01, -1.0251e-01]],\n",
       "\n",
       "         [[-9.9041e-02, -7.2129e-02, -7.2748e-02,  ..., -3.6232e-02,\n",
       "           -8.1876e-02, -8.8119e-02],\n",
       "          [-7.0621e-02, -3.9200e-02, -1.0514e-02,  ...,  5.9519e-02,\n",
       "            2.5891e-02, -1.3287e-02],\n",
       "          [-9.3963e-02, -2.5318e-02,  3.0725e-02,  ...,  2.0738e-01,\n",
       "            1.6162e-01,  8.6865e-02],\n",
       "          ...,\n",
       "          [-3.9978e-02,  6.4148e-02,  1.6941e-01,  ...,  4.5814e-01,\n",
       "            3.7839e-01,  2.5870e-01],\n",
       "          [-6.4985e-02,  1.3637e-02,  1.3008e-01,  ...,  3.6661e-01,\n",
       "            3.2009e-01,  2.0442e-01],\n",
       "          [-1.0433e-01, -2.7216e-02,  4.1199e-02,  ...,  2.2797e-01,\n",
       "            1.8622e-01,  1.1854e-01]],\n",
       "\n",
       "         [[ 4.2717e-02,  4.7269e-02,  1.7798e-02,  ...,  3.4693e-02,\n",
       "            2.8595e-02,  4.3173e-02],\n",
       "          [ 3.6308e-02,  3.3459e-02, -1.2449e-03,  ...,  4.2910e-03,\n",
       "            4.6513e-03,  2.4962e-02],\n",
       "          [ 2.3541e-02,  1.6826e-02, -1.5325e-02,  ..., -7.2865e-02,\n",
       "           -7.2030e-02, -2.3747e-02],\n",
       "          ...,\n",
       "          [ 2.9623e-02,  1.8176e-03, -7.9559e-02,  ..., -1.8138e-01,\n",
       "           -1.6950e-01, -6.1192e-02],\n",
       "          [ 3.5233e-02, -8.5295e-03, -5.4253e-02,  ..., -1.5068e-01,\n",
       "           -1.2747e-01, -4.5340e-02],\n",
       "          [ 5.4786e-02,  3.9805e-02, -1.0473e-02,  ..., -4.2332e-02,\n",
       "           -5.2220e-02,  5.1277e-04]]],\n",
       "\n",
       "\n",
       "        [[[ 7.3052e-03,  1.5686e-02, -2.4423e-04,  ..., -3.2539e-02,\n",
       "           -3.1297e-02, -3.0249e-02],\n",
       "          [ 8.6377e-03,  2.4622e-02,  1.1249e-02,  ..., -1.0645e-02,\n",
       "           -1.5026e-02, -3.4091e-02],\n",
       "          [ 7.7960e-03,  3.1337e-02,  2.5109e-02,  ...,  1.2514e-02,\n",
       "           -5.7764e-04, -5.3505e-03],\n",
       "          ...,\n",
       "          [-1.0597e-03,  1.3395e-02,  1.1477e-03,  ...,  3.6588e-02,\n",
       "            4.6791e-02,  7.5218e-02],\n",
       "          [-1.5273e-02,  8.1007e-03, -7.3382e-04,  ...,  3.7322e-03,\n",
       "            1.9803e-02,  7.4966e-02],\n",
       "          [-1.9642e-02, -1.8543e-03, -6.9084e-03,  ..., -3.2996e-03,\n",
       "            2.8972e-02,  8.7559e-02]],\n",
       "\n",
       "         [[ 1.2775e-02,  8.8500e-03,  2.3261e-03,  ...,  1.3541e-02,\n",
       "            3.6049e-02,  4.8399e-02],\n",
       "          [ 1.4153e-02,  1.1684e-02, -2.9641e-03,  ...,  2.7169e-02,\n",
       "            5.1851e-02,  3.8690e-02],\n",
       "          [ 3.1984e-03,  5.0850e-03, -9.3271e-03,  ...,  4.1137e-02,\n",
       "            5.4548e-02,  4.5094e-02],\n",
       "          ...,\n",
       "          [-1.7035e-02, -4.2867e-02, -8.4639e-02,  ..., -4.9248e-02,\n",
       "           -2.3901e-02,  2.6232e-03],\n",
       "          [-2.8155e-03, -8.8370e-03, -4.8081e-02,  ..., -8.6432e-02,\n",
       "           -7.1647e-02, -2.3398e-02],\n",
       "          [ 2.8788e-02,  2.3000e-02, -4.6879e-03,  ..., -5.0775e-02,\n",
       "           -3.9457e-02, -7.1134e-03]],\n",
       "\n",
       "         [[ 9.3511e-03, -3.6039e-02, -3.1732e-02,  ...,  3.4844e-03,\n",
       "            4.3197e-02,  4.5083e-02],\n",
       "          [-1.1875e-02, -5.8264e-02, -6.3004e-02,  ..., -1.7674e-02,\n",
       "            1.5884e-02, -7.6554e-03],\n",
       "          [ 1.4215e-02, -3.3805e-02, -5.0096e-02,  ..., -2.1366e-03,\n",
       "            6.0525e-03, -8.0126e-03],\n",
       "          ...,\n",
       "          [ 8.0828e-03, -4.9916e-02, -9.0253e-02,  ..., -8.7565e-02,\n",
       "           -9.9468e-02, -1.0924e-01],\n",
       "          [ 1.8781e-02, -1.4367e-02, -4.6708e-02,  ..., -1.1187e-01,\n",
       "           -1.4514e-01, -1.4444e-01],\n",
       "          [ 5.7803e-02,  1.7252e-02, -5.7767e-03,  ..., -7.4414e-02,\n",
       "           -1.1313e-01, -1.2434e-01]]],\n",
       "\n",
       "\n",
       "        ...,\n",
       "\n",
       "\n",
       "        [[[ 1.5639e-02,  2.0411e-02,  3.5717e-02,  ...,  7.1576e-03,\n",
       "            4.5493e-02, -7.6534e-03],\n",
       "          [-2.1845e-02,  5.6129e-02,  6.0663e-02,  ..., -5.6907e-02,\n",
       "            8.5169e-02, -2.6663e-02],\n",
       "          [-4.7579e-02,  1.0689e-01,  7.5667e-02,  ..., -8.8005e-02,\n",
       "            1.5159e-01, -3.2074e-02],\n",
       "          ...,\n",
       "          [ 1.4774e-03,  1.2554e-01, -4.9284e-02,  ...,  5.9099e-02,\n",
       "            1.5756e-01, -4.1167e-02],\n",
       "          [ 5.0183e-03,  6.2567e-02, -5.8753e-02,  ...,  4.7302e-02,\n",
       "            8.2366e-02, -4.6016e-02],\n",
       "          [ 1.6201e-02,  5.4047e-03, -6.5849e-02,  ...,  5.1001e-02,\n",
       "            4.6469e-02, -1.6759e-02]],\n",
       "\n",
       "         [[ 1.0200e-02,  4.4592e-02,  1.5321e-03,  ..., -6.6545e-02,\n",
       "            4.5731e-02,  4.8529e-02],\n",
       "          [ 4.5088e-03,  1.2873e-01,  3.0149e-02,  ..., -1.4642e-01,\n",
       "            1.4743e-01,  8.3739e-02],\n",
       "          [ 5.6123e-03,  2.1745e-01,  3.0934e-02,  ..., -1.8033e-01,\n",
       "            2.6112e-01,  9.4205e-02],\n",
       "          ...,\n",
       "          [ 4.6450e-02,  1.9461e-01, -1.3893e-01,  ...,  4.3828e-02,\n",
       "            2.8577e-01,  5.1682e-02],\n",
       "          [ 2.5445e-02,  9.4402e-02, -1.3597e-01,  ...,  5.5534e-02,\n",
       "            1.5707e-01, -1.3938e-02],\n",
       "          [ 1.6235e-02,  2.9242e-02, -1.0514e-01,  ...,  7.2561e-02,\n",
       "            8.2445e-02, -1.0449e-02]],\n",
       "\n",
       "         [[ 7.6312e-04,  2.2041e-02,  1.2029e-02,  ..., -3.9314e-02,\n",
       "            7.8765e-03,  1.1339e-02],\n",
       "          [-2.6744e-02,  7.6046e-02,  6.5150e-02,  ..., -5.3509e-02,\n",
       "            7.7586e-02,  1.5460e-02],\n",
       "          [-4.3151e-02,  1.2443e-01,  7.8582e-02,  ..., -7.2363e-02,\n",
       "            1.3668e-01, -3.7664e-03],\n",
       "          ...,\n",
       "          [-4.8974e-03,  1.2171e-01, -4.9993e-02,  ...,  4.0816e-02,\n",
       "            1.2784e-01, -2.7264e-02],\n",
       "          [-5.7832e-03,  6.6111e-02, -4.9786e-02,  ...,  3.8487e-02,\n",
       "            6.9511e-02, -4.3904e-02],\n",
       "          [ 3.3817e-03,  3.2986e-02, -4.2698e-02,  ...,  4.3439e-02,\n",
       "            3.3467e-02, -2.9978e-02]]],\n",
       "\n",
       "\n",
       "        [[[ 4.5842e-02,  5.2311e-02,  4.4927e-02,  ..., -2.9410e-02,\n",
       "            4.5506e-03,  1.4374e-02],\n",
       "          [ 5.2478e-02,  5.1215e-02,  4.7960e-02,  ..., -1.1274e-01,\n",
       "           -8.2460e-02, -2.5520e-02],\n",
       "          [ 9.0280e-02,  7.7345e-02,  6.7258e-02,  ..., -2.1452e-01,\n",
       "           -1.1146e-01, -1.7177e-02],\n",
       "          ...,\n",
       "          [ 3.2732e-02,  7.1492e-05, -1.5341e-01,  ..., -2.5537e-01,\n",
       "           -1.1447e-01,  4.2084e-02],\n",
       "          [ 1.9229e-02, -2.7870e-02, -1.4789e-01,  ..., -2.4871e-01,\n",
       "           -3.0199e-02,  8.2352e-02],\n",
       "          [-6.6101e-03, -5.7227e-02, -1.5145e-01,  ..., -1.8681e-01,\n",
       "            9.7780e-03,  9.8369e-02]],\n",
       "\n",
       "         [[-3.1084e-03,  1.2002e-02,  1.6918e-02,  ...,  4.7799e-03,\n",
       "            4.7867e-03, -8.5661e-04],\n",
       "          [ 1.9549e-02,  1.5186e-02,  3.4710e-02,  ..., -4.2644e-03,\n",
       "           -1.3299e-02, -5.1674e-03],\n",
       "          [ 2.0221e-02,  1.1181e-02,  5.0552e-02,  ..., -6.5437e-02,\n",
       "           -6.4139e-03,  1.8563e-02],\n",
       "          ...,\n",
       "          [-1.1129e-02,  1.0629e-02, -4.2425e-02,  ..., -4.8182e-02,\n",
       "           -2.8246e-02,  4.6424e-02],\n",
       "          [ 7.5653e-03,  1.1309e-02, -1.3535e-02,  ..., -6.6639e-02,\n",
       "            1.0465e-02,  3.6264e-02],\n",
       "          [ 9.8492e-03,  6.3770e-03, -1.5771e-04,  ..., -3.0868e-02,\n",
       "            2.6524e-02,  3.0090e-02]],\n",
       "\n",
       "         [[-4.2418e-02, -2.3199e-02, -2.2478e-02,  ...,  1.4661e-02,\n",
       "            1.2153e-02, -2.1124e-02],\n",
       "          [-2.9424e-02, -2.5660e-02,  1.4858e-03,  ...,  4.2752e-02,\n",
       "            2.1531e-02, -5.6081e-03],\n",
       "          [-3.9465e-02, -4.5056e-02,  1.4975e-02,  ...,  3.0639e-02,\n",
       "            4.1439e-02, -7.7498e-03],\n",
       "          ...,\n",
       "          [-3.1252e-02,  7.7716e-03,  1.5953e-02,  ...,  6.3187e-02,\n",
       "            4.8559e-03, -2.9812e-02],\n",
       "          [-1.2930e-02,  1.6789e-02,  4.8435e-02,  ...,  4.6301e-02,\n",
       "            2.6589e-02, -4.1627e-02],\n",
       "          [-1.7138e-02,  7.2573e-03,  4.8229e-02,  ...,  3.5378e-02,\n",
       "            1.4400e-02, -4.7261e-02]]],\n",
       "\n",
       "\n",
       "        [[[ 1.9836e-02, -2.8316e-02,  6.1643e-02,  ..., -5.2705e-02,\n",
       "            9.8331e-03,  4.9678e-03],\n",
       "          [-4.6186e-02,  5.3722e-02, -2.6572e-02,  ...,  1.9153e-02,\n",
       "           -2.2031e-02, -1.3209e-02],\n",
       "          [ 5.2939e-02, -4.4223e-02, -3.7457e-02,  ..., -2.1368e-01,\n",
       "           -2.1620e-03,  3.4433e-02],\n",
       "          ...,\n",
       "          [-3.5689e-02,  9.3666e-02,  1.1909e-01,  ...,  5.2430e-01,\n",
       "           -4.5373e-02, -5.9195e-02],\n",
       "          [-1.1405e-02,  1.0079e-01, -1.9849e-01,  ...,  2.3351e-01,\n",
       "           -2.6296e-01,  1.2434e-01],\n",
       "          [-1.4071e-02,  5.2204e-03, -7.5740e-02,  ..., -5.6693e-02,\n",
       "            3.3713e-02, -3.4239e-02]],\n",
       "\n",
       "         [[ 1.8626e-02, -3.9080e-02,  4.1489e-02,  ..., -4.2309e-02,\n",
       "            2.7354e-02, -5.3296e-03],\n",
       "          [-4.5311e-02,  6.2526e-02, -1.8939e-02,  ...,  2.9117e-02,\n",
       "            3.0331e-03, -1.8276e-03],\n",
       "          [ 3.6988e-02, -6.5929e-02, -2.1645e-02,  ..., -2.6028e-01,\n",
       "            5.6034e-02,  3.7797e-02],\n",
       "          ...,\n",
       "          [-3.4665e-02,  1.2999e-01,  1.2347e-01,  ...,  6.5182e-01,\n",
       "           -1.6673e-02, -1.2347e-01],\n",
       "          [-1.9596e-02,  1.2236e-01, -2.4884e-01,  ...,  3.3043e-01,\n",
       "           -3.2030e-01,  9.4385e-02],\n",
       "          [ 2.0938e-03,  2.5218e-02, -8.2988e-02,  ..., -6.9019e-02,\n",
       "            2.0379e-02, -1.5437e-02]],\n",
       "\n",
       "         [[ 1.3068e-02, -3.7082e-02,  1.9962e-02,  ..., -4.6411e-02,\n",
       "            2.6141e-02,  2.5953e-03],\n",
       "          [-3.3303e-02,  7.5309e-02, -2.8833e-02,  ...,  4.7499e-02,\n",
       "           -7.2355e-03, -1.5955e-02],\n",
       "          [ 6.1195e-02, -4.4915e-02, -1.3650e-01,  ..., -1.3014e-01,\n",
       "            6.3804e-03,  1.3756e-02],\n",
       "          ...,\n",
       "          [-1.5692e-02,  8.1412e-03,  1.4574e-01,  ...,  4.6457e-01,\n",
       "           -1.6762e-01, -2.8489e-02],\n",
       "          [-4.5328e-02,  3.7344e-02, -1.2535e-01,  ...,  1.0561e-01,\n",
       "           -2.7718e-01,  1.6692e-01],\n",
       "          [ 1.0456e-02,  1.9020e-02, -1.5351e-02,  ..., -1.1350e-01,\n",
       "            6.7615e-02, -6.7650e-03]]]], requires_grad=True)"
      ]
     },
     "execution_count": 29,
     "metadata": {},
     "output_type": "execute_result"
    }
   ],
   "source": [
    "resnet_model.conv1.weight"
   ]
  },
  {
   "cell_type": "markdown",
   "id": "80a9baad",
   "metadata": {},
   "source": [
    "The output will be of class `torch.nn.parameter.Parameter`"
   ]
  },
  {
   "cell_type": "code",
   "execution_count": 30,
   "id": "77506aa7",
   "metadata": {},
   "outputs": [
    {
     "data": {
      "text/plain": [
       "torch.nn.parameter.Parameter"
      ]
     },
     "execution_count": 30,
     "metadata": {},
     "output_type": "execute_result"
    }
   ],
   "source": [
    "type(resnet_model.conv1.weight)"
   ]
  },
  {
   "cell_type": "markdown",
   "id": "a863527e",
   "metadata": {},
   "source": [
    "If we only wanted the tensor storing the values of the parameter, we can obtain it by accessing the `.data` attribute of the object:"
   ]
  },
  {
   "cell_type": "code",
   "execution_count": 31,
   "id": "a5ac90f8",
   "metadata": {},
   "outputs": [
    {
     "name": "stdout",
     "output_type": "stream",
     "text": [
      "type: <class 'torch.Tensor'>\n",
      "shape: torch.Size([64, 3, 7, 7])\n"
     ]
    }
   ],
   "source": [
    "parameter_data = resnet_model.conv1.weight.data\n",
    "print(f\"type: {type(parameter_data)}\")\n",
    "print(f\"shape: {parameter_data.shape}\")"
   ]
  },
  {
   "cell_type": "markdown",
   "id": "c700e475",
   "metadata": {},
   "source": [
    "We can also find out if the computation of the gradient is required for that tensor:"
   ]
  },
  {
   "cell_type": "code",
   "execution_count": 32,
   "id": "3418bbab",
   "metadata": {},
   "outputs": [
    {
     "data": {
      "text/plain": [
       "True"
      ]
     },
     "execution_count": 32,
     "metadata": {},
     "output_type": "execute_result"
    }
   ],
   "source": [
    "resnet_model.conv1.weight.requires_grad"
   ]
  },
  {
   "cell_type": "markdown",
   "id": "d0ad6c5e",
   "metadata": {},
   "source": [
    "### `.state dict()`\n",
    "\n",
    "But PyTorch provides an easier way to access this data, with the function `state_dict()` which stores these variables conveniently in an ordered dictionary:"
   ]
  },
  {
   "cell_type": "code",
   "execution_count": 33,
   "id": "b14b63de",
   "metadata": {},
   "outputs": [
    {
     "name": "stdout",
     "output_type": "stream",
     "text": [
      "type: <class 'collections.OrderedDict'>\n",
      "['conv1.weight', 'bn1.weight', 'bn1.bias', 'bn1.running_mean', 'bn1.running_var', 'bn1.num_batches_tracked', 'layer1.0.conv1.weight', 'layer1.0.bn1.weight', 'layer1.0.bn1.bias', 'layer1.0.bn1.running_mean']\n"
     ]
    }
   ],
   "source": [
    "resnet_state_dict = resnet_model.state_dict()\n",
    "\n",
    "print(f\"type: {type(resnet_state_dict)}\")\n",
    "print(list(resnet_state_dict.keys())[:10])"
   ]
  },
  {
   "cell_type": "markdown",
   "id": "cd29d9ac",
   "metadata": {},
   "source": [
    "We can access the values of the parameters then by accessing each corresponding key:"
   ]
  },
  {
   "cell_type": "code",
   "execution_count": 34,
   "id": "47068b05",
   "metadata": {},
   "outputs": [
    {
     "data": {
      "text/plain": [
       "tensor([[[[ 1.3335e-02,  1.4664e-02, -1.5351e-02,  ..., -4.0896e-02,\n",
       "           -4.3034e-02, -7.0755e-02],\n",
       "          [ 4.1205e-03,  5.8477e-03,  1.4948e-02,  ...,  2.2060e-03,\n",
       "           -2.0912e-02, -3.8517e-02],\n",
       "          [ 2.2331e-02,  2.3595e-02,  1.6120e-02,  ...,  1.0281e-01,\n",
       "            6.2641e-02,  5.1977e-02],\n",
       "          ...,\n",
       "          [-9.0349e-04,  2.7767e-02, -1.0105e-02,  ..., -1.2722e-01,\n",
       "           -7.6604e-02,  7.8453e-03],\n",
       "          [ 3.5894e-03,  4.8006e-02,  6.2051e-02,  ...,  2.4267e-02,\n",
       "           -3.3662e-02, -1.5709e-02],\n",
       "          [-8.0029e-02, -3.2238e-02, -1.7808e-02,  ...,  3.5359e-02,\n",
       "            2.2439e-02,  1.7077e-03]],\n",
       "\n",
       "         [[-1.8452e-02,  1.1415e-02,  2.3850e-02,  ...,  5.3736e-02,\n",
       "            4.4022e-02, -9.4675e-03],\n",
       "          [-7.7273e-03,  1.8890e-02,  6.7981e-02,  ...,  1.5956e-01,\n",
       "            1.4606e-01,  1.1999e-01],\n",
       "          [-4.6013e-02, -7.6075e-02, -8.9648e-02,  ...,  1.2108e-01,\n",
       "            1.6705e-01,  1.7619e-01],\n",
       "          ...,\n",
       "          [ 2.8818e-02,  1.3665e-02, -8.3825e-02,  ..., -3.8081e-01,\n",
       "           -3.0414e-01, -1.3966e-01],\n",
       "          [ 8.2868e-02,  1.3864e-01,  1.5241e-01,  ..., -5.1232e-03,\n",
       "           -1.2435e-01, -1.2967e-01],\n",
       "          [-7.2789e-03,  7.7021e-02,  1.3999e-01,  ...,  1.8427e-01,\n",
       "            1.1144e-01,  2.3438e-02]],\n",
       "\n",
       "         [[-1.8311e-02, -5.6424e-03,  8.7224e-03,  ...,  2.5775e-02,\n",
       "            2.6431e-02, -3.9914e-03],\n",
       "          [-1.0098e-02,  4.1615e-03,  4.9730e-02,  ...,  1.2447e-01,\n",
       "            1.1950e-01,  1.1198e-01],\n",
       "          [-6.3478e-02, -1.0146e-01, -9.8343e-02,  ...,  1.0630e-01,\n",
       "            1.3982e-01,  1.4942e-01],\n",
       "          ...,\n",
       "          [ 2.5810e-02,  1.0501e-02, -7.4578e-02,  ..., -3.1385e-01,\n",
       "           -2.5495e-01, -1.2276e-01],\n",
       "          [ 7.3049e-02,  1.1170e-01,  1.3093e-01,  ..., -6.4584e-03,\n",
       "           -1.2548e-01, -1.2446e-01],\n",
       "          [-6.4210e-03,  6.6393e-02,  1.2177e-01,  ...,  1.9075e-01,\n",
       "            1.1415e-01,  2.3337e-02]]],\n",
       "\n",
       "\n",
       "        [[[ 6.8609e-02,  3.7955e-02,  5.3564e-02,  ...,  2.6891e-02,\n",
       "            4.8369e-02,  6.3264e-02],\n",
       "          [ 6.1844e-02,  1.8407e-02,  2.2672e-02,  ..., -4.8800e-02,\n",
       "           -2.2130e-02, -5.7287e-03],\n",
       "          [ 5.6553e-02,  1.4883e-02, -6.9185e-03,  ..., -1.2919e-01,\n",
       "           -9.5042e-02, -5.8671e-02],\n",
       "          ...,\n",
       "          [ 2.3802e-02, -5.2273e-02, -1.1277e-01,  ..., -2.5591e-01,\n",
       "           -2.4049e-01, -2.0315e-01],\n",
       "          [ 5.6221e-02, -2.1824e-02, -5.9207e-02,  ..., -2.3806e-01,\n",
       "           -1.9836e-01, -1.6578e-01],\n",
       "          [ 5.9635e-02,  3.7172e-03, -4.8716e-02,  ..., -1.6098e-01,\n",
       "           -1.4336e-01, -1.0251e-01]],\n",
       "\n",
       "         [[-9.9041e-02, -7.2129e-02, -7.2748e-02,  ..., -3.6232e-02,\n",
       "           -8.1876e-02, -8.8119e-02],\n",
       "          [-7.0621e-02, -3.9200e-02, -1.0514e-02,  ...,  5.9519e-02,\n",
       "            2.5891e-02, -1.3287e-02],\n",
       "          [-9.3963e-02, -2.5318e-02,  3.0725e-02,  ...,  2.0738e-01,\n",
       "            1.6162e-01,  8.6865e-02],\n",
       "          ...,\n",
       "          [-3.9978e-02,  6.4148e-02,  1.6941e-01,  ...,  4.5814e-01,\n",
       "            3.7839e-01,  2.5870e-01],\n",
       "          [-6.4985e-02,  1.3637e-02,  1.3008e-01,  ...,  3.6661e-01,\n",
       "            3.2009e-01,  2.0442e-01],\n",
       "          [-1.0433e-01, -2.7216e-02,  4.1199e-02,  ...,  2.2797e-01,\n",
       "            1.8622e-01,  1.1854e-01]],\n",
       "\n",
       "         [[ 4.2717e-02,  4.7269e-02,  1.7798e-02,  ...,  3.4693e-02,\n",
       "            2.8595e-02,  4.3173e-02],\n",
       "          [ 3.6308e-02,  3.3459e-02, -1.2449e-03,  ...,  4.2910e-03,\n",
       "            4.6513e-03,  2.4962e-02],\n",
       "          [ 2.3541e-02,  1.6826e-02, -1.5325e-02,  ..., -7.2865e-02,\n",
       "           -7.2030e-02, -2.3747e-02],\n",
       "          ...,\n",
       "          [ 2.9623e-02,  1.8176e-03, -7.9559e-02,  ..., -1.8138e-01,\n",
       "           -1.6950e-01, -6.1192e-02],\n",
       "          [ 3.5233e-02, -8.5295e-03, -5.4253e-02,  ..., -1.5068e-01,\n",
       "           -1.2747e-01, -4.5340e-02],\n",
       "          [ 5.4786e-02,  3.9805e-02, -1.0473e-02,  ..., -4.2332e-02,\n",
       "           -5.2220e-02,  5.1277e-04]]],\n",
       "\n",
       "\n",
       "        [[[ 7.3052e-03,  1.5686e-02, -2.4423e-04,  ..., -3.2539e-02,\n",
       "           -3.1297e-02, -3.0249e-02],\n",
       "          [ 8.6377e-03,  2.4622e-02,  1.1249e-02,  ..., -1.0645e-02,\n",
       "           -1.5026e-02, -3.4091e-02],\n",
       "          [ 7.7960e-03,  3.1337e-02,  2.5109e-02,  ...,  1.2514e-02,\n",
       "           -5.7764e-04, -5.3505e-03],\n",
       "          ...,\n",
       "          [-1.0597e-03,  1.3395e-02,  1.1477e-03,  ...,  3.6588e-02,\n",
       "            4.6791e-02,  7.5218e-02],\n",
       "          [-1.5273e-02,  8.1007e-03, -7.3382e-04,  ...,  3.7322e-03,\n",
       "            1.9803e-02,  7.4966e-02],\n",
       "          [-1.9642e-02, -1.8543e-03, -6.9084e-03,  ..., -3.2996e-03,\n",
       "            2.8972e-02,  8.7559e-02]],\n",
       "\n",
       "         [[ 1.2775e-02,  8.8500e-03,  2.3261e-03,  ...,  1.3541e-02,\n",
       "            3.6049e-02,  4.8399e-02],\n",
       "          [ 1.4153e-02,  1.1684e-02, -2.9641e-03,  ...,  2.7169e-02,\n",
       "            5.1851e-02,  3.8690e-02],\n",
       "          [ 3.1984e-03,  5.0850e-03, -9.3271e-03,  ...,  4.1137e-02,\n",
       "            5.4548e-02,  4.5094e-02],\n",
       "          ...,\n",
       "          [-1.7035e-02, -4.2867e-02, -8.4639e-02,  ..., -4.9248e-02,\n",
       "           -2.3901e-02,  2.6232e-03],\n",
       "          [-2.8155e-03, -8.8370e-03, -4.8081e-02,  ..., -8.6432e-02,\n",
       "           -7.1647e-02, -2.3398e-02],\n",
       "          [ 2.8788e-02,  2.3000e-02, -4.6879e-03,  ..., -5.0775e-02,\n",
       "           -3.9457e-02, -7.1134e-03]],\n",
       "\n",
       "         [[ 9.3511e-03, -3.6039e-02, -3.1732e-02,  ...,  3.4844e-03,\n",
       "            4.3197e-02,  4.5083e-02],\n",
       "          [-1.1875e-02, -5.8264e-02, -6.3004e-02,  ..., -1.7674e-02,\n",
       "            1.5884e-02, -7.6554e-03],\n",
       "          [ 1.4215e-02, -3.3805e-02, -5.0096e-02,  ..., -2.1366e-03,\n",
       "            6.0525e-03, -8.0126e-03],\n",
       "          ...,\n",
       "          [ 8.0828e-03, -4.9916e-02, -9.0253e-02,  ..., -8.7565e-02,\n",
       "           -9.9468e-02, -1.0924e-01],\n",
       "          [ 1.8781e-02, -1.4367e-02, -4.6708e-02,  ..., -1.1187e-01,\n",
       "           -1.4514e-01, -1.4444e-01],\n",
       "          [ 5.7803e-02,  1.7252e-02, -5.7767e-03,  ..., -7.4414e-02,\n",
       "           -1.1313e-01, -1.2434e-01]]],\n",
       "\n",
       "\n",
       "        ...,\n",
       "\n",
       "\n",
       "        [[[ 1.5639e-02,  2.0411e-02,  3.5717e-02,  ...,  7.1576e-03,\n",
       "            4.5493e-02, -7.6534e-03],\n",
       "          [-2.1845e-02,  5.6129e-02,  6.0663e-02,  ..., -5.6907e-02,\n",
       "            8.5169e-02, -2.6663e-02],\n",
       "          [-4.7579e-02,  1.0689e-01,  7.5667e-02,  ..., -8.8005e-02,\n",
       "            1.5159e-01, -3.2074e-02],\n",
       "          ...,\n",
       "          [ 1.4774e-03,  1.2554e-01, -4.9284e-02,  ...,  5.9099e-02,\n",
       "            1.5756e-01, -4.1167e-02],\n",
       "          [ 5.0183e-03,  6.2567e-02, -5.8753e-02,  ...,  4.7302e-02,\n",
       "            8.2366e-02, -4.6016e-02],\n",
       "          [ 1.6201e-02,  5.4047e-03, -6.5849e-02,  ...,  5.1001e-02,\n",
       "            4.6469e-02, -1.6759e-02]],\n",
       "\n",
       "         [[ 1.0200e-02,  4.4592e-02,  1.5321e-03,  ..., -6.6545e-02,\n",
       "            4.5731e-02,  4.8529e-02],\n",
       "          [ 4.5088e-03,  1.2873e-01,  3.0149e-02,  ..., -1.4642e-01,\n",
       "            1.4743e-01,  8.3739e-02],\n",
       "          [ 5.6123e-03,  2.1745e-01,  3.0934e-02,  ..., -1.8033e-01,\n",
       "            2.6112e-01,  9.4205e-02],\n",
       "          ...,\n",
       "          [ 4.6450e-02,  1.9461e-01, -1.3893e-01,  ...,  4.3828e-02,\n",
       "            2.8577e-01,  5.1682e-02],\n",
       "          [ 2.5445e-02,  9.4402e-02, -1.3597e-01,  ...,  5.5534e-02,\n",
       "            1.5707e-01, -1.3938e-02],\n",
       "          [ 1.6235e-02,  2.9242e-02, -1.0514e-01,  ...,  7.2561e-02,\n",
       "            8.2445e-02, -1.0449e-02]],\n",
       "\n",
       "         [[ 7.6312e-04,  2.2041e-02,  1.2029e-02,  ..., -3.9314e-02,\n",
       "            7.8765e-03,  1.1339e-02],\n",
       "          [-2.6744e-02,  7.6046e-02,  6.5150e-02,  ..., -5.3509e-02,\n",
       "            7.7586e-02,  1.5460e-02],\n",
       "          [-4.3151e-02,  1.2443e-01,  7.8582e-02,  ..., -7.2363e-02,\n",
       "            1.3668e-01, -3.7664e-03],\n",
       "          ...,\n",
       "          [-4.8974e-03,  1.2171e-01, -4.9993e-02,  ...,  4.0816e-02,\n",
       "            1.2784e-01, -2.7264e-02],\n",
       "          [-5.7832e-03,  6.6111e-02, -4.9786e-02,  ...,  3.8487e-02,\n",
       "            6.9511e-02, -4.3904e-02],\n",
       "          [ 3.3817e-03,  3.2986e-02, -4.2698e-02,  ...,  4.3439e-02,\n",
       "            3.3467e-02, -2.9978e-02]]],\n",
       "\n",
       "\n",
       "        [[[ 4.5842e-02,  5.2311e-02,  4.4927e-02,  ..., -2.9410e-02,\n",
       "            4.5506e-03,  1.4374e-02],\n",
       "          [ 5.2478e-02,  5.1215e-02,  4.7960e-02,  ..., -1.1274e-01,\n",
       "           -8.2460e-02, -2.5520e-02],\n",
       "          [ 9.0280e-02,  7.7345e-02,  6.7258e-02,  ..., -2.1452e-01,\n",
       "           -1.1146e-01, -1.7177e-02],\n",
       "          ...,\n",
       "          [ 3.2732e-02,  7.1492e-05, -1.5341e-01,  ..., -2.5537e-01,\n",
       "           -1.1447e-01,  4.2084e-02],\n",
       "          [ 1.9229e-02, -2.7870e-02, -1.4789e-01,  ..., -2.4871e-01,\n",
       "           -3.0199e-02,  8.2352e-02],\n",
       "          [-6.6101e-03, -5.7227e-02, -1.5145e-01,  ..., -1.8681e-01,\n",
       "            9.7780e-03,  9.8369e-02]],\n",
       "\n",
       "         [[-3.1084e-03,  1.2002e-02,  1.6918e-02,  ...,  4.7799e-03,\n",
       "            4.7867e-03, -8.5661e-04],\n",
       "          [ 1.9549e-02,  1.5186e-02,  3.4710e-02,  ..., -4.2644e-03,\n",
       "           -1.3299e-02, -5.1674e-03],\n",
       "          [ 2.0221e-02,  1.1181e-02,  5.0552e-02,  ..., -6.5437e-02,\n",
       "           -6.4139e-03,  1.8563e-02],\n",
       "          ...,\n",
       "          [-1.1129e-02,  1.0629e-02, -4.2425e-02,  ..., -4.8182e-02,\n",
       "           -2.8246e-02,  4.6424e-02],\n",
       "          [ 7.5653e-03,  1.1309e-02, -1.3535e-02,  ..., -6.6639e-02,\n",
       "            1.0465e-02,  3.6264e-02],\n",
       "          [ 9.8492e-03,  6.3770e-03, -1.5771e-04,  ..., -3.0868e-02,\n",
       "            2.6524e-02,  3.0090e-02]],\n",
       "\n",
       "         [[-4.2418e-02, -2.3199e-02, -2.2478e-02,  ...,  1.4661e-02,\n",
       "            1.2153e-02, -2.1124e-02],\n",
       "          [-2.9424e-02, -2.5660e-02,  1.4858e-03,  ...,  4.2752e-02,\n",
       "            2.1531e-02, -5.6081e-03],\n",
       "          [-3.9465e-02, -4.5056e-02,  1.4975e-02,  ...,  3.0639e-02,\n",
       "            4.1439e-02, -7.7498e-03],\n",
       "          ...,\n",
       "          [-3.1252e-02,  7.7716e-03,  1.5953e-02,  ...,  6.3187e-02,\n",
       "            4.8559e-03, -2.9812e-02],\n",
       "          [-1.2930e-02,  1.6789e-02,  4.8435e-02,  ...,  4.6301e-02,\n",
       "            2.6589e-02, -4.1627e-02],\n",
       "          [-1.7138e-02,  7.2573e-03,  4.8229e-02,  ...,  3.5378e-02,\n",
       "            1.4400e-02, -4.7261e-02]]],\n",
       "\n",
       "\n",
       "        [[[ 1.9836e-02, -2.8316e-02,  6.1643e-02,  ..., -5.2705e-02,\n",
       "            9.8331e-03,  4.9678e-03],\n",
       "          [-4.6186e-02,  5.3722e-02, -2.6572e-02,  ...,  1.9153e-02,\n",
       "           -2.2031e-02, -1.3209e-02],\n",
       "          [ 5.2939e-02, -4.4223e-02, -3.7457e-02,  ..., -2.1368e-01,\n",
       "           -2.1620e-03,  3.4433e-02],\n",
       "          ...,\n",
       "          [-3.5689e-02,  9.3666e-02,  1.1909e-01,  ...,  5.2430e-01,\n",
       "           -4.5373e-02, -5.9195e-02],\n",
       "          [-1.1405e-02,  1.0079e-01, -1.9849e-01,  ...,  2.3351e-01,\n",
       "           -2.6296e-01,  1.2434e-01],\n",
       "          [-1.4071e-02,  5.2204e-03, -7.5740e-02,  ..., -5.6693e-02,\n",
       "            3.3713e-02, -3.4239e-02]],\n",
       "\n",
       "         [[ 1.8626e-02, -3.9080e-02,  4.1489e-02,  ..., -4.2309e-02,\n",
       "            2.7354e-02, -5.3296e-03],\n",
       "          [-4.5311e-02,  6.2526e-02, -1.8939e-02,  ...,  2.9117e-02,\n",
       "            3.0331e-03, -1.8276e-03],\n",
       "          [ 3.6988e-02, -6.5929e-02, -2.1645e-02,  ..., -2.6028e-01,\n",
       "            5.6034e-02,  3.7797e-02],\n",
       "          ...,\n",
       "          [-3.4665e-02,  1.2999e-01,  1.2347e-01,  ...,  6.5182e-01,\n",
       "           -1.6673e-02, -1.2347e-01],\n",
       "          [-1.9596e-02,  1.2236e-01, -2.4884e-01,  ...,  3.3043e-01,\n",
       "           -3.2030e-01,  9.4385e-02],\n",
       "          [ 2.0938e-03,  2.5218e-02, -8.2988e-02,  ..., -6.9019e-02,\n",
       "            2.0379e-02, -1.5437e-02]],\n",
       "\n",
       "         [[ 1.3068e-02, -3.7082e-02,  1.9962e-02,  ..., -4.6411e-02,\n",
       "            2.6141e-02,  2.5953e-03],\n",
       "          [-3.3303e-02,  7.5309e-02, -2.8833e-02,  ...,  4.7499e-02,\n",
       "           -7.2355e-03, -1.5955e-02],\n",
       "          [ 6.1195e-02, -4.4915e-02, -1.3650e-01,  ..., -1.3014e-01,\n",
       "            6.3804e-03,  1.3756e-02],\n",
       "          ...,\n",
       "          [-1.5692e-02,  8.1412e-03,  1.4574e-01,  ...,  4.6457e-01,\n",
       "           -1.6762e-01, -2.8489e-02],\n",
       "          [-4.5328e-02,  3.7344e-02, -1.2535e-01,  ...,  1.0561e-01,\n",
       "           -2.7718e-01,  1.6692e-01],\n",
       "          [ 1.0456e-02,  1.9020e-02, -1.5351e-02,  ..., -1.1350e-01,\n",
       "            6.7615e-02, -6.7650e-03]]]])"
      ]
     },
     "execution_count": 34,
     "metadata": {},
     "output_type": "execute_result"
    }
   ],
   "source": [
    "resnet_state_dict[\"conv1.weight\"]"
   ]
  },
  {
   "cell_type": "markdown",
   "id": "24e36a99",
   "metadata": {},
   "source": [
    "## Feature extraction"
   ]
  },
  {
   "cell_type": "markdown",
   "id": "7441d007",
   "metadata": {},
   "source": [
    "There are many ways one could extract the representations of a DNN in reponse to an input in PyTorch. [This blogpost](https://pytorch.org/blog/FX-feature-extraction-torchvision/) gives a nice overview of the pros and cons of each one. In this notebook we will only explore those methods that don't involve modyifing the source code of the model to obtain these internal representations.\n",
    "\n",
    "{explain this better}"
   ]
  },
  {
   "cell_type": "markdown",
   "id": "ffbb4381",
   "metadata": {},
   "source": [
    "### Hooks\n",
    "\n",
    "One way to extract how the input is transformed across the network is to use the function `register_forward_hook`. "
   ]
  },
  {
   "cell_type": "markdown",
   "id": "d9cd38d2",
   "metadata": {},
   "source": [
    "We first need to define a function where given a model module that has some input and output, we can register them in a dictionary \n",
    "\n",
    "{explain better}"
   ]
  },
  {
   "cell_type": "code",
   "execution_count": 35,
   "id": "e728a49e",
   "metadata": {},
   "outputs": [],
   "source": [
    "from collections import OrderedDict\n",
    "\n",
    "repr_input = OrderedDict()\n",
    "repr_output = OrderedDict()\n",
    "\n",
    "def get_representation(name):\n",
    "    def hook(model, input, output):\n",
    "        repr_input[name] = input[0].detach()\n",
    "        repr_output[name] = output.detach()\n",
    "    return hook"
   ]
  },
  {
   "cell_type": "markdown",
   "id": "a3cd1f1f",
   "metadata": {},
   "source": [
    "We then:"
   ]
  },
  {
   "cell_type": "code",
   "execution_count": 36,
   "id": "f898696b",
   "metadata": {},
   "outputs": [],
   "source": [
    "for name, layer in resnet_model.named_modules():\n",
    "    layer.register_forward_hook(get_representation(name))"
   ]
  },
  {
   "cell_type": "code",
   "execution_count": 37,
   "id": "42899b3a",
   "metadata": {},
   "outputs": [],
   "source": [
    "from torchvision import transforms\n",
    "\n",
    "normalize = transforms.Normalize(\n",
    "    mean=[0.485, 0.456, 0.406],\n",
    "    std=[0.229, 0.224, 0.225]\n",
    ")\n",
    "\n",
    "preprocessing = transforms.Compose([\n",
    "    transforms.Resize(256),\n",
    "    transforms.CenterCrop(224),\n",
    "    transforms.ToTensor(),\n",
    "    normalize,\n",
    "])"
   ]
  },
  {
   "cell_type": "code",
   "execution_count": 38,
   "id": "d56815bd",
   "metadata": {},
   "outputs": [],
   "source": [
    "from PIL import Image\n",
    "\n",
    "img = Image.open(\"./images/bird_0.jpg\")"
   ]
  },
  {
   "cell_type": "code",
   "execution_count": 39,
   "id": "e1e59855",
   "metadata": {},
   "outputs": [
    {
     "data": {
      "text/plain": [
       "tensor([[[0.5707, 0.6049, 0.6049,  ..., 0.6563, 0.6392, 0.6392],\n",
       "         [0.5193, 0.5536, 0.5536,  ..., 0.6392, 0.6049, 0.6049],\n",
       "         [0.4679, 0.4851, 0.5022,  ..., 0.6049, 0.5707, 0.5707],\n",
       "         ...,\n",
       "         [0.5707, 0.5193, 0.5536,  ..., 0.8789, 0.8618, 0.8789],\n",
       "         [0.6563, 0.5878, 0.5878,  ..., 0.9132, 0.8961, 0.8961],\n",
       "         [0.7419, 0.6734, 0.6734,  ..., 0.9303, 0.9474, 0.9303]],\n",
       "\n",
       "        [[0.6954, 0.7304, 0.7304,  ..., 0.8004, 0.7829, 0.7829],\n",
       "         [0.6429, 0.6779, 0.6779,  ..., 0.7829, 0.7479, 0.7479],\n",
       "         [0.6078, 0.6254, 0.6429,  ..., 0.7479, 0.7129, 0.7129],\n",
       "         ...,\n",
       "         [0.7304, 0.6779, 0.6954,  ..., 0.9230, 0.9055, 0.9230],\n",
       "         [0.8179, 0.7479, 0.7479,  ..., 0.9405, 0.9230, 0.9230],\n",
       "         [0.9055, 0.8354, 0.8179,  ..., 0.9580, 0.9755, 0.9580]],\n",
       "\n",
       "        [[0.8274, 0.8622, 0.8622,  ..., 0.8797, 0.8622, 0.8622],\n",
       "         [0.7751, 0.8099, 0.8099,  ..., 0.8622, 0.8274, 0.8274],\n",
       "         [0.7402, 0.7402, 0.7751,  ..., 0.8099, 0.7751, 0.7751],\n",
       "         ...,\n",
       "         [0.8274, 0.7751, 0.7925,  ..., 0.9494, 0.9319, 0.9319],\n",
       "         [0.9319, 0.8622, 0.8622,  ..., 0.9842, 0.9668, 0.9668],\n",
       "         [1.0191, 0.9494, 0.9494,  ..., 1.0017, 1.0191, 1.0017]]])"
      ]
     },
     "execution_count": 39,
     "metadata": {},
     "output_type": "execute_result"
    }
   ],
   "source": [
    "prepro_img = preprocessing(img)\n",
    "prepro_img"
   ]
  },
  {
   "cell_type": "code",
   "execution_count": null,
   "id": "fa337a70",
   "metadata": {},
   "outputs": [],
   "source": [
    "#resnet_model(prepro_img)"
   ]
  },
  {
   "cell_type": "code",
   "execution_count": null,
   "id": "4b2624d7",
   "metadata": {
    "scrolled": true,
    "tags": []
   },
   "outputs": [],
   "source": [
    "# for layer in [name for name, _ in resnet_model.named_modules()][1:20]:\n",
    "#     print(layer)\n",
    "#     print(f\"Input shape: {activation_input[layer].shape}\")\n",
    "#     print(f\"Output shape: {activation_output[layer].shape}\")"
   ]
  },
  {
   "cell_type": "markdown",
   "id": "2816c939",
   "metadata": {},
   "source": [
    "We can make sure that the outputs of a module are the inputs of the next module, for example:"
   ]
  },
  {
   "cell_type": "code",
   "execution_count": null,
   "id": "fca689dd",
   "metadata": {},
   "outputs": [],
   "source": [
    "#torch.equal(activation_input[\"layer1.0.conv1\"], activation_input[\"layer1.0.downsample\"])"
   ]
  },
  {
   "cell_type": "markdown",
   "id": "bf0c22aa",
   "metadata": {},
   "source": [
    "The input to the layer `downsample` is the same as the input of the whole block."
   ]
  },
  {
   "cell_type": "code",
   "execution_count": null,
   "id": "14663ca9",
   "metadata": {},
   "outputs": [],
   "source": [
    "#torch.equal(activation_output[\"conv1\"], activation_input[\"bn1\"])"
   ]
  },
  {
   "cell_type": "markdown",
   "id": "f8736a77",
   "metadata": {},
   "source": [
    "There are also pre-forward hooks and backward hooks. Read here: https://medium.com/the-owl/using-forward-hooks-to-extract-intermediate-layer-outputs-from-a-pre-trained-model-in-pytorch-1ec17af78712"
   ]
  },
  {
   "cell_type": "markdown",
   "id": "ca82a67a",
   "metadata": {},
   "source": [
    "Read here to understand how to add forward hooks for non sequential modules only: https://blog.paperspace.com/pytorch-hooks-gradient-clipping-debugging/"
   ]
  },
  {
   "cell_type": "markdown",
   "id": "59aee941",
   "metadata": {},
   "source": [
    "## References / Resources\n",
    "\n",
    "- [What is a state dict in pytorch?](https://pytorch.org/tutorials/recipes/recipes/what_is_state_dict.html)\n",
    "- [How can I load my best model as a feature extractor/evaluator?](https://discuss.pytorch.org/t/how-can-l-load-my-best-model-as-a-feature-extractor-evaluator/17254/47)"
   ]
  },
  {
   "cell_type": "code",
   "execution_count": null,
   "id": "6a8ceb7e",
   "metadata": {},
   "outputs": [],
   "source": []
  }
 ],
 "metadata": {
  "kernelspec": {
   "display_name": "Python 3 (ipykernel)",
   "language": "python",
   "name": "python3"
  },
  "language_info": {
   "codemirror_mode": {
    "name": "ipython",
    "version": 3
   },
   "file_extension": ".py",
   "mimetype": "text/x-python",
   "name": "python",
   "nbconvert_exporter": "python",
   "pygments_lexer": "ipython3",
   "version": "3.8.12"
  }
 },
 "nbformat": 4,
 "nbformat_minor": 5
}
